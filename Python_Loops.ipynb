{
 "cells": [
  {
   "cell_type": "code",
   "execution_count": 1,
   "metadata": {},
   "outputs": [
    {
     "name": "stdout",
     "output_type": "stream",
     "text": [
      "Enter a number:1\n",
      "one\n"
     ]
    }
   ],
   "source": [
    "# A program which takes one number from 0 to 9 from the user and prints it in the word. And if the word is not from 0 to 9 then \n",
    " # it should print that number is outside of the range and program should exit.\n",
    " # For example:- input = 1 output = one\n",
    "\n",
    "numbers_dict= {0:\"zero\", 1:\"one\", 2:\"two\", 3:\"three\", 4:\"four\", 5: \"five\", 6:\"six\", 7:\"seven\", 8:\"eight\", 9:\"nine\"}\n",
    "user_input = eval(input(\"Enter a number:\"))\n",
    "\n",
    "# method -1\n",
    "if user_input  in numbers_dict:\n",
    "        print(numbers_dict.get(user_input))  \n",
    "else:\n",
    "    print(\"This number is out of range!\") \n",
    "    \n"
   ]
  },
  {
   "cell_type": "code",
   "execution_count": 2,
   "metadata": {},
   "outputs": [
    {
     "name": "stdout",
     "output_type": "stream",
     "text": [
      "Enter a number:10\n",
      "This number is out of range!\n"
     ]
    }
   ],
   "source": [
    "#method-2\n",
    "numbers_dict= {0:\"zero\", 1:\"one\", 2:\"two\", 3:\"three\", 4:\"four\", 5: \"five\", 6:\"six\", 7:\"seven\", 8:\"eight\", 9:\"nine\"}\n",
    "user_input = eval(input(\"Enter a number:\"))\n",
    "\n",
    "if user_input == 0:\n",
    "    print(numbers_dict.get(user_input))\n",
    "elif user_input == 1:\n",
    "    print(numbers_dict.get(user_input))\n",
    "elif user_input == 2:\n",
    "    print(numbers_dict.get(user_input))\n",
    "elif user_input == 3:\n",
    "    print(numbers_dict.get(user_input))\n",
    "elif user_input == 4:           \n",
    "    print(numbers_dict.get(user_input))\n",
    "elif user_input == 5:           \n",
    "    print(numbers_dict.get(user_input))     \n",
    "elif user_input ==6:           \n",
    "    print(numbers_dict.get(user_input))   \n",
    "elif user_input == 7:           \n",
    "    print(numbers_dict.get(user_input))   \n",
    "elif user_input == 8:           \n",
    "    print(numbers_dict.get(user_input))   \n",
    "elif user_input == 9:           \n",
    "    print(numbers_dict.get(user_input))   \n",
    "else:           \n",
    "    print(\"This number is out of range!\")       "
   ]
  },
  {
   "cell_type": "markdown",
   "metadata": {},
   "source": [
    "###  To implement calculator but the operation to be done and two numbers will be taken as input from user:-\n",
    "Operation console should show below:-\n",
    "Please select any one operation from below:-\n",
    "* To add enter 1\n",
    "* to subtract enter 2\n",
    "* To multiply enter 3\n",
    "* To divide enter 4\n",
    "* To divide and find quotient enter 5\n",
    "* To divide and find remainder enter 6\n",
    "* To find num1 to the power of num2 enter 7\n",
    "* To Come out of the program enter 8"
   ]
  },
  {
   "cell_type": "code",
   "execution_count": 3,
   "metadata": {},
   "outputs": [
    {
     "name": "stdout",
     "output_type": "stream",
     "text": [
      "To add enter 1. \n",
      "To subtract enter 2. \n",
      "To multiply enter 3. \n",
      "To divide enter 4. \n",
      "\n",
      "To divide and find quotient enter 5. \n",
      "To divide and find remainder enter 6. \n",
      "To divide and find num1 to the power of num2 \n",
      "enter 7. \n",
      "To Come out of the program enter 8. \n",
      "Please select any one operation given:5\n",
      "Enter two numbers\n",
      "Enter the first number:30\n",
      "Enter the second number:5\n",
      "6\n"
     ]
    }
   ],
   "source": [
    "print (\"\"\"To add enter 1. \\nTo subtract enter 2. \\nTo multiply enter 3. \\nTo divide enter 4. \n",
    "\\nTo divide and find quotient enter 5. \\nTo divide and find remainder enter 6. \\nTo divide and find num1 to the power of num2 \n",
    "enter 7. \\nTo Come out of the program enter 8. \"\"\")\n",
    "\n",
    "user_input = eval(input(\"Please select any one operation given:\"))\n",
    "if (user_input>=1 and user_input<=7):\n",
    "    print(\"Enter two numbers\")\n",
    "    number1 = eval(input(\"Enter the first number:\"))\n",
    "    number2 = eval(input(\"Enter the second number:\"))\n",
    "\n",
    "    if user_input == 1:\n",
    "        print(number1 + number2)\n",
    "\n",
    "    elif user_input == 2:\n",
    "        print(number1 - number2)\n",
    "\n",
    "    elif user_input == 3:\n",
    "        print(number1 * number2)   \n",
    "\n",
    "    elif user_input == 4:\n",
    "        print(number1 / number2)   \n",
    "\n",
    "    elif user_input == 5:\n",
    "        print(number1 // number2)\n",
    "\n",
    "    elif user_input == 6:\n",
    "        print(number1 % number2)\n",
    "    \n",
    "    elif user_input == 7:\n",
    "        print(number1**number2)\n",
    "    \n",
    "elif user_input >=8:\n",
    "        exit()\n",
    "else:\n",
    "    print(\"You are out of the program!\") "
   ]
  },
  {
   "cell_type": "code",
   "execution_count": 4,
   "metadata": {},
   "outputs": [
    {
     "name": "stdout",
     "output_type": "stream",
     "text": [
      "Enter a year:1200\n",
      "1200 is  a  leap year.\n"
     ]
    }
   ],
   "source": [
    "# A Program to check whether a year entered by user is an leap year or not ?\n",
    "# Check with below input:-\n",
    "# leap year:- 2012 , 1968 , 2004 , 1200 , 1600 , 2400, 2000\n",
    "# Non-lear year:- 1971 , 2006 , 1700 , 1800 , 1900\n",
    "\n",
    "#method-1\n",
    "user_input= int(input(\"Enter a year:\"))\n",
    "\n",
    "if (user_input % 4 == 0) and (user_input % 100 != 0):\n",
    "    print(\"{0} is  a  leap year.\" .format(user_input))\n",
    "elif (user_input % 400 == 0):\n",
    "    print(\"{0} is  a  leap year.\" .format(user_input))\n",
    "else:\n",
    "    print(\"{0} is not a  leap year!\" .format(user_input))"
   ]
  },
  {
   "cell_type": "code",
   "execution_count": 7,
   "metadata": {},
   "outputs": [
    {
     "name": "stdout",
     "output_type": "stream",
     "text": [
      "2021\n",
      "False\n"
     ]
    }
   ],
   "source": [
    "def is_leap(year):\n",
    "    leap = False\n",
    "    \n",
    "    if year%4==0 and year%100!=0:\n",
    "        leap = True\n",
    "        \n",
    "    elif year%400==0:   \n",
    "        leap = True\n",
    "         \n",
    "    else:\n",
    "        leap \n",
    "        \n",
    "\n",
    "    return leap\n",
    "\n",
    "year = int(input())\n",
    "print(is_leap(year))"
   ]
  },
  {
   "cell_type": "code",
   "execution_count": 5,
   "metadata": {},
   "outputs": [
    {
     "name": "stdout",
     "output_type": "stream",
     "text": [
      "Enter a year: 1800\n",
      "1800 is not a leap year.\n"
     ]
    }
   ],
   "source": [
    "#method-2\n",
    "year = int(input(\"Enter a year: \"))\n",
    "\n",
    "if (year % 4) == 0:\n",
    "    if (year % 100) == 0:\n",
    "        if (year % 400) == 0:\n",
    "            print(\"{0} is a leap year.\".format(year))\n",
    "        else:\n",
    "            print(\"{0} is not a leap year.\".format(year))\n",
    "    else:\n",
    "        print(\"{0} is a leap year.\".format(year))\n",
    "else:\n",
    "    print(\"{0} is not a leap year!\".format(year))\n"
   ]
  },
  {
   "cell_type": "code",
   "execution_count": 6,
   "metadata": {},
   "outputs": [
    {
     "name": "stdout",
     "output_type": "stream",
     "text": [
      "Enter a number:98.0\n",
      "98.0, is an even number.\n"
     ]
    }
   ],
   "source": [
    "# A program takes one number from the user and checks whether it is an even or odd number? \n",
    "# If it even then prints number is even number else prints that number is odd number.\n",
    "user_input= input(\"Enter a number:\")\n",
    "\n",
    "if user_input.isdigit() | user_input.replace('.','',1).isdigit() | user_input.replace('-','',1).isdigit():\n",
    "    if user_input.isdigit():\n",
    "        user_input=int(user_input)\n",
    "    else:\n",
    "        user_input=float(user_input)\n",
    "    \n",
    "    if (abs(user_input) % 2) == 0 :\n",
    "         print(\"{0}, is an even number.\" .format(user_input))\n",
    "    else: \n",
    "         print(\"{0}, is an odd number.\" .format(user_input))\n",
    "else:\n",
    "    print('Invalid input!')"
   ]
  },
  {
   "cell_type": "markdown",
   "metadata": {},
   "source": [
    "### A program that takes two numbers from the user and prints below output:-\n",
    "- 1 . num1 is greater than num2 if num1 is greater than num2\n",
    "- 2 . num1 is smaller than num2 if num1 is smaller than num2\n",
    "- 3 . num1 is equal to num2 if num1 and num2 are equal\n",
    "- Note: - 1 . Do this problem using if - else\n",
    "        - 2 . Do this using ternary operator"
   ]
  },
  {
   "cell_type": "code",
   "execution_count": 7,
   "metadata": {},
   "outputs": [
    {
     "name": "stdout",
     "output_type": "stream",
     "text": [
      "Enter the first number:45\n",
      "Enter the second number:35\n",
      "45 is greater than 35.\n"
     ]
    }
   ],
   "source": [
    "# method 1 - using if - else\n",
    "num1 = eval(input(\"Enter the first number:\"))\n",
    "num2 = eval(input(\"Enter the second number:\"))\n",
    "\n",
    "if num1 > num2:\n",
    "    print(\"{0} is greater than {1}.\" .format(num1, num2))  \n",
    "elif  num1 < num2:\n",
    "    print(\"{0} is smaller than {1}.\" .format(num1, num2))\n",
    "else:\n",
    "    print(\"{0} is equal to {1}.\" .format(num1, num2))\n",
    "\n"
   ]
  },
  {
   "cell_type": "code",
   "execution_count": 8,
   "metadata": {},
   "outputs": [
    {
     "name": "stdout",
     "output_type": "stream",
     "text": [
      "Enter the first number:34\n",
      "Enter the second number:43\n",
      "34 is smaller than 43.\n"
     ]
    }
   ],
   "source": [
    "# method 2 - using ternary operator\n",
    "num1 = eval(input(\"Enter the first number:\"))\n",
    "num2 = eval(input(\"Enter the second number:\"))\n",
    "\n",
    "print('{0} is greater than {1}.'.format(num1, num2) if num1 > num2 else \"{0} is smaller than {1}.\".format(num1, num2) if num1 < num2 \n",
    "      else '{0} is equal to {1}.'.format(num1, num2) )\n"
   ]
  },
  {
   "cell_type": "markdown",
   "metadata": {},
   "source": [
    "### A program which takes three numbers from the user and prints below output:-\n",
    "\n",
    "- 1 . num1 is greater than num2 and num3 if num1 is greater than num2 and num3\n",
    "- 2 . num2 is greater than num1 and num3 if num2 is greater than num1 and num3\n",
    "- 3 . num3 is greater than num1 and num2 if num3 is greater than num1 and num2\n",
    "\n",
    "- Note:-  - 1 . Do this problem using if - elif - else\n",
    "          - 2 . Do this using ternary operator ---->   a = a if a>b else b\n",
    "\n"
   ]
  },
  {
   "cell_type": "code",
   "execution_count": 9,
   "metadata": {},
   "outputs": [
    {
     "name": "stdout",
     "output_type": "stream",
     "text": [
      "Enter the first number:45\n",
      "Enter the second number:43\n",
      "Enter the third number:65\n",
      "65 is greater than 45 and 43\n"
     ]
    }
   ],
   "source": [
    "#method1 : using if - elif - else\n",
    "num1 = eval(input(\"Enter the first number:\"))\n",
    "num2 = eval(input(\"Enter the second number:\"))\n",
    "num3 = eval(input(\"Enter the third number:\"))\n",
    "\n",
    "if num1>num2 and num1>num3:\n",
    "    print(f'{num1} is greater than {num2} and {num3}')\n",
    "elif num2>num1 and num2>num3:\n",
    "    print(f'{num2} is greater than {num1} and {num3}')\n",
    "else:\n",
    "    print(f'{num3} is greater than {num1} and {num2}')\n"
   ]
  },
  {
   "cell_type": "code",
   "execution_count": 10,
   "metadata": {},
   "outputs": [
    {
     "name": "stdout",
     "output_type": "stream",
     "text": [
      "Enter the first number:22\n",
      "Enter the second number:34\n",
      "Enter the third number:23\n",
      "34 is greater than 22 and 23\n"
     ]
    }
   ],
   "source": [
    "#method2 : - using ternary operator\n",
    "num1 = eval(input(\"Enter the first number:\"))\n",
    "num2 = eval(input(\"Enter the second number:\"))\n",
    "num3 = eval(input(\"Enter the third number:\"))\n",
    "\n",
    "print(f'{num1} is greater than {num2} and {num3}' if (num1>num2 and num1>num3) else f'{num2} is greater than {num1} and {num3}'\n",
    "       if (num2>num1 and num2>num3) else f'{num3} is greater than {num1} and {num2}' )"
   ]
  },
  {
   "cell_type": "markdown",
   "metadata": {},
   "source": [
    "### Loops - for loop, while loop"
   ]
  },
  {
   "cell_type": "code",
   "execution_count": 26,
   "metadata": {},
   "outputs": [
    {
     "name": "stdout",
     "output_type": "stream",
     "text": [
      "The length of the string is 55\n"
     ]
    }
   ],
   "source": [
    "#'Write a Python program to find the length of the my_str'\n",
    "input1 = 'Write a Python program to find the length of the my_str'\n",
    "counter=0\n",
    "for i in range(len(input1)):\n",
    "    counter +=1\n",
    "print (\"The length of the string is\", counter)"
   ]
  },
  {
   "cell_type": "code",
   "execution_count": 27,
   "metadata": {},
   "outputs": [
    {
     "name": "stdout",
     "output_type": "stream",
     "text": [
      "The length of the string is 55\n"
     ]
    }
   ],
   "source": [
    "#method -2\n",
    "input1 = 'Write a Python program to find the length of the my_str'\n",
    "i = 1\n",
    "while i < len(input1):\n",
    "    i = i+1\n",
    "print(\"The length of the string is\", i)"
   ]
  },
  {
   "cell_type": "code",
   "execution_count": 28,
   "metadata": {},
   "outputs": [
    {
     "name": "stdout",
     "output_type": "stream",
     "text": [
      "9\n"
     ]
    }
   ],
   "source": [
    "# A Python program to find the total number of times letter 'p' is appeared in the below string using loop:-\n",
    "# Input:- 'peter piper picked a peck of pickled peppers.\\n'\n",
    "# Output:- 9\n",
    "input1 = 'peter piper picked a peck of pickled peppers.'\n",
    "\n",
    "counter  = 0\n",
    "for i in  range(len(input1)):\n",
    "    if input1[i] == 'p':\n",
    "        counter +=1\n",
    "    \n",
    "print(counter)"
   ]
  },
  {
   "cell_type": "code",
   "execution_count": 29,
   "metadata": {},
   "outputs": [
    {
     "name": "stdout",
     "output_type": "stream",
     "text": [
      "0 6 8 12 21 29 37 39 40 "
     ]
    }
   ],
   "source": [
    "# Python Program, to print all the indexes of all occurences of letter 'p' appeared in the string using loop:-\n",
    "# Input:- 'peter piper picked a peck of pickled peppers.'\n",
    "# Output:- 0 6 8 12 21 29 37 39 40\n",
    "\n",
    "input1 = 'peter piper picked a peck of pickled peppers.'\n",
    "\n",
    "for i in  range(len(input1)):\n",
    "    if input1[i] == 'p':\n",
    "         print(i, end=' ')"
   ]
  },
  {
   "cell_type": "code",
   "execution_count": 30,
   "metadata": {},
   "outputs": [
    {
     "name": "stdout",
     "output_type": "stream",
     "text": [
      "['peter', 'piper', 'picked', 'a', 'peck', 'of', 'pickled', 'peppers.']\n"
     ]
    }
   ],
   "source": [
    "#  python program to find below output using loop:-\n",
    "#Input:- 'peter piper picked a peck of pickled peppers.'\n",
    "#Output:- [ 'peter' , 'piper' , 'picked' , 'a' , 'peck' , 'of' , 'pickled' ,'peppers' ]\n",
    "input1 = 'peter piper picked a peck of pickled peppers.'\n",
    "for i in range(len(input1)):\n",
    "         list1 = input1.split() #the string gets split wherever there is a space\n",
    "print(list1)\n"
   ]
  },
  {
   "cell_type": "code",
   "execution_count": 31,
   "metadata": {},
   "outputs": [
    {
     "name": "stdout",
     "output_type": "stream",
     "text": [
      "['peppers', 'pickled', 'of', 'peck', 'a', 'picked', 'piper', 'peter']\n",
      "peppers pickled of peck a picked piper peter\n"
     ]
    }
   ],
   "source": [
    "#  python program to find below output using loop:-\n",
    "# Input:- 'peter piper picked a peck of pickled peppers.'\n",
    "# Output:- 'peppers pickled of peck a picked piper peter'\n",
    "\n",
    "input1 = 'peter piper picked a peck of pickled peppers.'\n",
    "str_length = len(input1)\n",
    "for i in range(str_length):\n",
    "    list1 = input1[0:i].split()\n",
    "    list1 = list1[::-1]\n",
    "print(list1)\n",
    "\n",
    "new_str = \" \".join(list1) # converting list to string(with the order of words reversed)\n",
    "print(new_str)"
   ]
  },
  {
   "cell_type": "code",
   "execution_count": 32,
   "metadata": {},
   "outputs": [
    {
     "name": "stdout",
     "output_type": "stream",
     "text": [
      ".sreppep delkcip fo kcep a dekcip repip retep\n"
     ]
    }
   ],
   "source": [
    "# python program to find below output using loop:-\n",
    "# Input:- 'peter piper picked a peck of pickled peppers.'\n",
    "# Output:- '.sreppep delkcip fo kcep a dekcip repip retep'\n",
    "\n",
    "input1 = 'peter piper picked a peck of pickled peppers.'\n",
    "for i in range(len(input1)+2):\n",
    "    list1 = input1[-1:-i:-1]\n",
    "print(list1)  "
   ]
  },
  {
   "cell_type": "code",
   "execution_count": 33,
   "metadata": {},
   "outputs": [
    {
     "data": {
      "text/plain": [
       "'retep repip dekcip a kcep fo delkcip sreppep'"
      ]
     },
     "execution_count": 33,
     "metadata": {},
     "output_type": "execute_result"
    }
   ],
   "source": [
    "# a python program to find below output using loop:-\n",
    "# Input:- 'peter piper picked a peck of pickled peppers.'\n",
    "# Output:- 'retep repip dekcip a kcep fo delkcip sreppep'\n",
    "input1 = 'peter piper picked a peck of pickled peppers.'\n",
    "str_list = input1[0:(len(input1))-1].split()\n",
    "lst = []\n",
    "for i in range(len(str_list)):\n",
    "    list1 = str_list[i][::-1]\n",
    "    lst.append(list1)\n",
    "\n",
    "output_str = \" \".join(lst)\n",
    "output_str"
   ]
  },
  {
   "cell_type": "code",
   "execution_count": 34,
   "metadata": {},
   "outputs": [
    {
     "data": {
      "text/plain": [
       "'Peter Piper Picked A Peck Of Pickled Peppers.'"
      ]
     },
     "execution_count": 34,
     "metadata": {},
     "output_type": "execute_result"
    }
   ],
   "source": [
    "# Write a python program to find below output using loop:-\n",
    "#Input:- 'peter piper picked a peck of pickled peppers.'\n",
    "#Output:- 'Peter Piper Picked A Peck Of Pickled Peppers'\n",
    "input1 = 'peter piper picked a peck of pickled peppers.'\n",
    "list1 = input1.split()\n",
    "output_list = []\n",
    "counter = 0\n",
    "for i in list1:\n",
    "    a = list1[counter].title()\n",
    "    counter=counter+1\n",
    "    output_list.append(a)\n",
    "\n",
    "\" \".join(output_list)\n",
    "        \n"
   ]
  },
  {
   "cell_type": "code",
   "execution_count": 35,
   "metadata": {},
   "outputs": [
    {
     "data": {
      "text/plain": [
       "'Peter piper picked a peck of pickled peppers.'"
      ]
     },
     "execution_count": 35,
     "metadata": {},
     "output_type": "execute_result"
    }
   ],
   "source": [
    "# Write a python program to find below output using loop:-\n",
    "# Input:- 'Peter Piper Picked A Peck Of Pickled Peppers.'\n",
    "# Output:- 'Peter piper picked a peck of pickled peppers'\n",
    "\n",
    "my_str = 'Peter Piper Picked A Peck Of Pickled Peppers.' \n",
    "sub_str = 'Peter '\n",
    "list1 = input1.split()\n",
    "output_list = []\n",
    "\n",
    "for i in list1[1:]:\n",
    "    output_list.append(i.lower())\n",
    "\n",
    "output_str=\" \".join(output_list) #converting to string\n",
    "output = sub_str + output_str\n",
    "output"
   ]
  },
  {
   "cell_type": "code",
   "execution_count": 37,
   "metadata": {},
   "outputs": [
    {
     "name": "stdout",
     "output_type": "stream",
     "text": [
      "Peter Piper Picked A Pack Of Pickled Peppers.\n"
     ]
    }
   ],
   "source": [
    "# Write a python program to implement replace method using loop. \n",
    "#Input:- my_str = 'Peter Piper Picked A Peck Of Pickled Peppers.' ,\n",
    "#Output:- 'Peter Piper Picked A Pack Of Pickled Peppers.'\n",
    "    \n",
    "my_str = 'Peter Piper Picked A Peck Of Pickled Peppers.'   \n",
    "sub_str = 'Peck'\n",
    "new_str = 'Pack'\n",
    "\n",
    "for i in range(len(my_str)):\n",
    "    \n",
    "    if my_str[i:i+len(sub_str)] == sub_str:\n",
    "        output_str = my_str.replace(sub_str, new_str)\n",
    "        print(output_str)\n"
   ]
  },
  {
   "cell_type": "code",
   "execution_count": 38,
   "metadata": {},
   "outputs": [
    {
     "name": "stdout",
     "output_type": "stream",
     "text": [
      "Peter Piper Picked A Pack Of Pickled Peppers.\n"
     ]
    }
   ],
   "source": [
    "#method-2\n",
    "my_str = 'Peter Piper Picked A Peck Of Pickled Peppers.'   \n",
    "sub_str = 'Peck'\n",
    "new_str = 'Pack'\n",
    "\n",
    "\n",
    "if sub_str in my_str:\n",
    "    output = my_str.replace('Peck', 'Pack')\n",
    "    print(output)\n",
    "else:\n",
    "    print(\"sub_str not found\")\n",
    "       "
   ]
  },
  {
   "cell_type": "code",
   "execution_count": 39,
   "metadata": {},
   "outputs": [
    {
     "name": "stdout",
     "output_type": "stream",
     "text": [
      "Length of my_str: 45\n",
      "Output: *********************Peck********************\n",
      "Length of the output_str: 45\n"
     ]
    }
   ],
   "source": [
    "# Write a python program to find below output (implements rjust and ljust) using loop:-\n",
    "# Input:- 'Peter Piper Picked A Peck Of Pickled Peppers.' , sub_str =\n",
    "# 'Peck' ,\n",
    "# Output:- '*********************Peck********************'\n",
    "    \n",
    "my_str = 'Peter Piper Picked A Peck Of Pickled Peppers.'\n",
    "sub_str = 'Peck'\n",
    "print(\"Length of my_str:\", len(my_str))\n",
    "\n",
    "for i in range(0,len(my_str)):\n",
    "    x = my_str.find(sub_str) # number of characters BEFORE 'Peck' in my_str\n",
    "    y = len(my_str[(x+len(sub_str)) : ]) # number of characters AFTER 'Peck' in my_str\n",
    "    output_str = sub_str.rjust((x+len(sub_str)),'*').ljust(x+y+len(sub_str),'*')    \n",
    "\n",
    "print(\"Output:\", output_str)\n",
    "print(\"Length of the output_str:\",len(output))   "
   ]
  },
  {
   "cell_type": "code",
   "execution_count": 40,
   "metadata": {},
   "outputs": [
    {
     "name": "stdout",
     "output_type": "stream",
     "text": [
      "['This ', 'is', ' Python class']\n"
     ]
    }
   ],
   "source": [
    "# Write a python program to find below output using loop:-\n",
    "# Input:- 'This is Python class' , sep = ' is' ,\n",
    "# Output:- [ 'This' , 'is' , 'Python class' ]\n",
    "\n",
    "str1 = 'This is Python class' \n",
    "parted_str = str1.rpartition('is') #this method searches for the word-'is' and returns a tuple with 3 elements\n",
    "my_list=[]\n",
    "\n",
    "for i in parted_str:\n",
    "    my_list.append(i)\n",
    "\n",
    "print(my_list)"
   ]
  },
  {
   "cell_type": "markdown",
   "metadata": {},
   "source": [
    "\n",
    "                                       ***************************************"
   ]
  }
 ],
 "metadata": {
  "kernelspec": {
   "display_name": "Python 3",
   "language": "python",
   "name": "python3"
  },
  "language_info": {
   "codemirror_mode": {
    "name": "ipython",
    "version": 3
   },
   "file_extension": ".py",
   "mimetype": "text/x-python",
   "name": "python",
   "nbconvert_exporter": "python",
   "pygments_lexer": "ipython3",
   "version": "3.8.5"
  }
 },
 "nbformat": 4,
 "nbformat_minor": 4
}
