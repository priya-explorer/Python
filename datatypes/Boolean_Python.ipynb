{
 "cells": [
  {
   "cell_type": "code",
   "execution_count": 1,
   "metadata": {},
   "outputs": [
    {
     "name": "stdout",
     "output_type": "stream",
     "text": [
      "The type of the variable a1 is <class 'bool'>\n",
      "The address of the object is 140719739295568\n"
     ]
    }
   ],
   "source": [
    "# Q1. Declare a boolean value and store it in a variable. Check the type and print the id of the same.\n",
    "var = True\n",
    "print(\"The type of the variable a1 is\", type(var))\n",
    "print(\"The address of the object is\", id(var))"
   ]
  },
  {
   "cell_type": "code",
   "execution_count": 2,
   "metadata": {},
   "outputs": [
    {
     "name": "stdout",
     "output_type": "stream",
     "text": [
      "True True\n",
      "The id of var1 is 140719739295568\n",
      "The id of var2 is 140719739295568\n"
     ]
    }
   ],
   "source": [
    "# Q2. Take one boolean value between 0 - 256. Assign it to two different variables. Check the id of both the variables. It should come the same. Check why?\n",
    "var1= bool(153) \n",
    "var2= bool(153)\n",
    "print(var1, var2) #boolean of any value except 0 is always True!\n",
    "\n",
    "print(\"The id of var1 is\", id(var1))\n",
    "print(\"The id of var2 is\", id(var2))"
   ]
  },
  {
   "cell_type": "markdown",
   "metadata": {},
   "source": [
    "#### The id of both the boolean value between 0-256 is same."
   ]
  },
  {
   "cell_type": "markdown",
   "metadata": {},
   "source": [
    "### Q3. Arithmetic Operations on boolean data. Take two different boolean values. Store them in two different variables. Do below operations on them:-\n",
    "\n",
    "- Find sum of both values\n",
    "- Find difference between them\n",
    "- Find the product of both.\n",
    "- Find value after dividing first value with second value\n",
    "- Find the remainder after dividing first value with second value\n",
    "- Find the quotient after dividing first value with second value\n",
    "- Find the result of first value to the power of second value."
   ]
  },
  {
   "cell_type": "code",
   "execution_count": 3,
   "metadata": {},
   "outputs": [
    {
     "name": "stdout",
     "output_type": "stream",
     "text": [
      "The sum of two boolean values is 1\n",
      "The difference between two values is -1\n",
      "The product of both bool is 0\n",
      "\n",
      "The division of first value with second value is 0.0\n",
      "The remainder after dividing first value second value is 0\n",
      "The quotient after dividing first value with second value is 0\n",
      "The result of the first value to the power of the second value is 0\n"
     ]
    }
   ],
   "source": [
    "x=bool(0) # oolean value of 0 is always False!\n",
    "y=bool(24) # boolean of any value except 0 is always True!  \n",
    "print(\"The sum of two boolean values is\", x+y)\n",
    "print(\"The difference between two values is\", x-y)\n",
    "print(\"The product of both bool is\", x*y)\n",
    "print()\n",
    "print(\"The division of first value with second value is\", x/y) \n",
    "print(\"The remainder after dividing first value second value is\", x%y)  #modulo operation\n",
    "print(\"The quotient after dividing first value with second value is\", x//y) #floor division\n",
    "print(\"The result of the first value to the power of the second value is\", x**y) #power func"
   ]
  },
  {
   "cell_type": "markdown",
   "metadata": {},
   "source": [
    "### Q4. Comparison Operators on boolean values\n",
    "Take two different boolean values.\n",
    "Store them in two different variables.\n",
    "Do below operations on them.\n",
    "Compare these two values with below operator:-\n",
    "\n",
    "- Greater than, '>'\n",
    "- less than, '<'\n",
    "- Greater than or equal to, '>='\n",
    "- Less than or equal to, '<='\n",
    "\n",
    "Observe their output(return type should be boolean)\n"
   ]
  },
  {
   "cell_type": "code",
   "execution_count": 4,
   "metadata": {},
   "outputs": [
    {
     "name": "stdout",
     "output_type": "stream",
     "text": [
      "Is i1  greater than i2? True\n",
      "Is i1  smaller than i2? False\n",
      "Is i1  greater than or equal to i2? True\n",
      "Is i1  less than or equal to than i2? False\n"
     ]
    }
   ],
   "source": [
    "#  Comparison Operators on integers\n",
    "i1= True\n",
    "i2= False\n",
    "\n",
    "print(\"Is i1  greater than i2?\", i1>i2)\n",
    "print(\"Is i1  smaller than i2?\", i1<i2)\n",
    "\n",
    "print(\"Is i1  greater than or equal to i2?\", i1>=i2)\n",
    "print(\"Is i1  less than or equal to than i2?\", i1<=i2)"
   ]
  },
  {
   "cell_type": "markdown",
   "metadata": {},
   "source": [
    "### Q5. Equality Operator\n",
    "Take two different boolean values.\n",
    "Store them in two different variables.\n",
    "Equate them using equality operators (==, !=)\n",
    "Observe the output(return type should be boolean)"
   ]
  },
  {
   "cell_type": "code",
   "execution_count": 5,
   "metadata": {},
   "outputs": [
    {
     "name": "stdout",
     "output_type": "stream",
     "text": [
      "Are both the boolean values the same? False\n",
      "Are both the boolean values not the same? True\n"
     ]
    }
   ],
   "source": [
    "# Equality Operator on integers\n",
    "i3=True\n",
    "i4=False\n",
    "\n",
    "print(\"Are both the boolean values the same?\", i3==i4)\n",
    "print(\"Are both the boolean values not the same?\", i3!=i4)"
   ]
  },
  {
   "cell_type": "markdown",
   "metadata": {},
   "source": [
    "### Q.6 Logical operators. \n",
    "\n",
    "Observe the output of below code. Cross check the output manually\n",
    "\n",
    "print ( True and True ) #------------------------>Output is True\n",
    "\n",
    "print ( False and True ) #---------------------------->Output is False\n",
    "\n",
    "print ( True and False ) #---------------------------->Output is False\n",
    "\n",
    "print ( False and False ) #---------------------------->Output is False\n",
    "\n",
    "print ( True or True ) #---------------------------->Output is True\n",
    "\n",
    "print ( False or True ) #----------------------------->Output is True\n",
    "\n",
    "print ( True or False ) #----------------------------->Output is True\n",
    "\n",
    "print ( False or False ) #----------------------------->Output is False\n",
    "\n",
    "print ( not True ) #----------------------------->Output is False\n",
    "\n",
    "print ( not False ) #------------------------------>Output is True\n"
   ]
  },
  {
   "cell_type": "code",
   "execution_count": 6,
   "metadata": {},
   "outputs": [
    {
     "name": "stdout",
     "output_type": "stream",
     "text": [
      "True\n"
     ]
    }
   ],
   "source": [
    "#To cross check manually we find the bool of both the values and check the following condition\n",
    "# In this case, if A and B are two boolean values, the result will be A if A is False else B for AND operation\n",
    "\n",
    "b1= bool(True)\n",
    "b2= bool(True)\n",
    "print(b1 and b2) # 1st value is True. So,the 2nd value is the output"
   ]
  },
  {
   "cell_type": "code",
   "execution_count": 7,
   "metadata": {},
   "outputs": [
    {
     "name": "stdout",
     "output_type": "stream",
     "text": [
      "False\n"
     ]
    }
   ],
   "source": [
    "print(bool(False))"
   ]
  },
  {
   "cell_type": "code",
   "execution_count": 8,
   "metadata": {},
   "outputs": [
    {
     "name": "stdout",
     "output_type": "stream",
     "text": [
      "True\n",
      "False\n",
      "False\n",
      "False\n"
     ]
    }
   ],
   "source": [
    "#To cross check manually we find the bool of both the values and check the following condition\n",
    "# In this case, if A and B are two boolean values, the result will be A if A is False else B for AND operation\n",
    "\n",
    "print (True and True) # 1st value is not false so the 2nd value is the output\n",
    "\n",
    "print (False and True) # 1st value is output since its False \n",
    "\n",
    "print (True and False) # 2nd value is output since 1st value is True\n",
    "\n",
    "print (False and False) # 1st value is output since its False"
   ]
  },
  {
   "cell_type": "code",
   "execution_count": 9,
   "metadata": {},
   "outputs": [
    {
     "name": "stdout",
     "output_type": "stream",
     "text": [
      "True\n",
      "True\n",
      "True\n",
      "False\n"
     ]
    }
   ],
   "source": [
    "# For OR operation, if A and B are two boolean values, the result will be A if A is True else B \n",
    "print (True or True) # 1st value is the output since its True\n",
    "\n",
    "print (False or True) # 2nd value is output since 1st value is False\n",
    "\n",
    "print (True or False) # 1st value is the output since its True\n",
    "\n",
    "print (False or False) # 2nd value is output since 1st value is False"
   ]
  },
  {
   "cell_type": "markdown",
   "metadata": {},
   "source": [
    "### Q7. Bitwise Operators\n",
    "- Do below operations on the values provided below:-\n",
    "\n",
    "Bitwise and(&) ----------> True, True -------> Output is True\n",
    "\n",
    "Bitwise or(|) -----------> True, False ------> Output is True\n",
    "\n",
    "Bitwise(^) --------------> True, False ------> Output is True\n",
    "\n",
    "Bitwise negation(~) -----> True -------> Output is -2\n",
    "\n",
    "Bitwise left shift ------> True,2 -----> Output is 4\n",
    "\n",
    "Bitwise right shift -----> True,2 -----> Output is 0\n",
    "\n",
    "Cross check the output manually"
   ]
  },
  {
   "cell_type": "code",
   "execution_count": 10,
   "metadata": {},
   "outputs": [
    {
     "name": "stdout",
     "output_type": "stream",
     "text": [
      "False\n",
      "True\n",
      "True\n"
     ]
    }
   ],
   "source": [
    "v1 = bool(12)\n",
    "v2 = bool(0)\n",
    "print(v1 & v2)\n",
    "print(v1|v2)\n",
    "print(v1 ^ v2)\n"
   ]
  },
  {
   "cell_type": "code",
   "execution_count": 11,
   "metadata": {},
   "outputs": [
    {
     "name": "stdout",
     "output_type": "stream",
     "text": [
      "0b1\n",
      "0b0\n"
     ]
    }
   ],
   "source": [
    "#To cross check the output manually, convert the value to binary\n",
    "print(bin(v1))\n",
    "print(bin(v2))"
   ]
  },
  {
   "cell_type": "code",
   "execution_count": 12,
   "metadata": {},
   "outputs": [
    {
     "name": "stdout",
     "output_type": "stream",
     "text": [
      "The output of & bitwise operation is 0\n",
      "The output of | bitwise operation is 1\n",
      "The output of ^ bitwise operation is 1\n"
     ]
    }
   ],
   "source": [
    "# applying AND, OR and XOR operation on both the binary value we get 0b0, 0b1, 0b1  respectively.\n",
    "print(\"The output of & bitwise operation is\",  0b0)\n",
    "print(\"The output of | bitwise operation is\",  0b1)\n",
    "print(\"The output of ^ bitwise operation is\",  0b1)"
   ]
  },
  {
   "cell_type": "markdown",
   "metadata": {},
   "source": [
    "#### Here, 0 and 1 represents False and True, respectively."
   ]
  },
  {
   "cell_type": "code",
   "execution_count": 13,
   "metadata": {},
   "outputs": [
    {
     "name": "stdout",
     "output_type": "stream",
     "text": [
      "The output of ~bitwise operation is -1\n"
     ]
    }
   ],
   "source": [
    "# Bitwise negation(~)\n",
    "print(\"The output of ~bitwise operation is\", ~v2)\n",
    "\n",
    "# steps to cross check\n",
    "# add 1 to 0---->  1\n",
    "# invert sign ----> -1"
   ]
  },
  {
   "cell_type": "code",
   "execution_count": 14,
   "metadata": {},
   "outputs": [
    {
     "name": "stdout",
     "output_type": "stream",
     "text": [
      "The output of left shift bitwise operation is 4\n",
      "4\n"
     ]
    }
   ],
   "source": [
    "# Bitwise left shift \n",
    "print(\"The output of left shift bitwise operation is\",v1<<2) # remove 2 bits from left hand side  \n",
    "\n",
    "# to cross check manually\n",
    "# method 1  \n",
    "c= 1*(2**2) \n",
    "print(c)  \n"
   ]
  },
  {
   "cell_type": "code",
   "execution_count": 15,
   "metadata": {},
   "outputs": [
    {
     "name": "stdout",
     "output_type": "stream",
     "text": [
      "0b1\n"
     ]
    }
   ],
   "source": [
    "# method 2\n",
    "print(bin(1))"
   ]
  },
  {
   "cell_type": "code",
   "execution_count": 16,
   "metadata": {},
   "outputs": [
    {
     "name": "stdout",
     "output_type": "stream",
     "text": [
      "4\n"
     ]
    }
   ],
   "source": [
    "# method 2\n",
    "# bitwise left shift \n",
    "print(0b100)"
   ]
  },
  {
   "cell_type": "code",
   "execution_count": 17,
   "metadata": {},
   "outputs": [
    {
     "name": "stdout",
     "output_type": "stream",
     "text": [
      "The output of right shift bitwise operation is 0\n",
      "0\n"
     ]
    }
   ],
   "source": [
    "# Bitwise right shift \n",
    "print(\"The output of right shift bitwise operation is\",v1>>2) # remove 2 bits from right hand side  \n",
    "\n",
    "# to cross check manually\n",
    "# method 1  \n",
    "d= 1//(2**2) \n",
    "print(d)  \n"
   ]
  },
  {
   "cell_type": "code",
   "execution_count": 18,
   "metadata": {},
   "outputs": [
    {
     "name": "stdout",
     "output_type": "stream",
     "text": [
      "0b1\n",
      "0\n"
     ]
    }
   ],
   "source": [
    "# method 2\n",
    "# bitwise right shift \n",
    "print(bin(1))\n",
    "print(0b0)"
   ]
  },
  {
   "cell_type": "markdown",
   "metadata": {},
   "source": [
    "***********"
   ]
  },
  {
   "cell_type": "code",
   "execution_count": 19,
   "metadata": {},
   "outputs": [
    {
     "name": "stdout",
     "output_type": "stream",
     "text": [
      "True\n",
      "False\n"
     ]
    }
   ],
   "source": [
    "# Q8. What is the output of expression inside the print statement. Cross check before running the program.\n",
    "\n",
    "a = True\n",
    "b = True\n",
    "\n",
    "print (a is b) #True or False? #\n",
    "\n",
    "print (a is not b) #True or False?"
   ]
  },
  {
   "cell_type": "code",
   "execution_count": 20,
   "metadata": {},
   "outputs": [
    {
     "name": "stdout",
     "output_type": "stream",
     "text": [
      "140719739295568\n",
      "140719739295568\n"
     ]
    }
   ],
   "source": [
    "a = True\n",
    "b = True\n",
    "print(id(a))\n",
    "print(id(b))"
   ]
  },
  {
   "cell_type": "code",
   "execution_count": 21,
   "metadata": {},
   "outputs": [
    {
     "name": "stdout",
     "output_type": "stream",
     "text": [
      "a and b has same memory location? True\n",
      "a and b do not have same memory location? False\n"
     ]
    }
   ],
   "source": [
    "print (\"a and b has same memory location?\", a is b) # Output is True since both has same id location\n",
    "\n",
    "print (\"a and b do not have same memory location?\", a is not b) # Output is False since its not true that both location is different"
   ]
  },
  {
   "cell_type": "code",
   "execution_count": 22,
   "metadata": {},
   "outputs": [
    {
     "name": "stdout",
     "output_type": "stream",
     "text": [
      "140719739295600\n",
      "140719739295600\n"
     ]
    }
   ],
   "source": [
    "a1 = False\n",
    "b1 = False\n",
    "print(id(a1))\n",
    "print(id(b1))\n"
   ]
  },
  {
   "cell_type": "code",
   "execution_count": 23,
   "metadata": {},
   "outputs": [
    {
     "name": "stdout",
     "output_type": "stream",
     "text": [
      "a and b has same memory location? True\n",
      "a and b do not have same memory location? False\n"
     ]
    }
   ],
   "source": [
    "print (\"a and b has same memory location?\", a1 is b1) # Output is True since both has same id location\n",
    "print (\"a and b do not have same memory location?\", a1 is not b1) # Output is False since its not true that both location is different"
   ]
  },
  {
   "cell_type": "code",
   "execution_count": 24,
   "metadata": {},
   "outputs": [
    {
     "name": "stdout",
     "output_type": "stream",
     "text": [
      "True\n",
      "True\n",
      "True\n",
      "True\n",
      "True\n"
     ]
    }
   ],
   "source": [
    "# Q10. Membership operation\n",
    "# in, not in are two membership operators and it returns boolean value\n",
    "\n",
    "print (True in [ 10 , 10.20 , 10 + 20j , 'Python' , True ])\n",
    "print (False in ( 10 , 10.20 , 10 + 20j , 'Python' , False ))\n",
    "print (True in { 1 , 2 , 3 , True })\n",
    "print (True in { True : 100 , False : 200 , True : 300 })\n",
    "print (False in { True : 100 , False : 200 , True : 300 })"
   ]
  },
  {
   "cell_type": "markdown",
   "metadata": {},
   "source": [
    "                                            *******The End*******"
   ]
  }
 ],
 "metadata": {
  "kernelspec": {
   "display_name": "Python 3",
   "language": "python",
   "name": "python3"
  },
  "language_info": {
   "codemirror_mode": {
    "name": "ipython",
    "version": 3
   },
   "file_extension": ".py",
   "mimetype": "text/x-python",
   "name": "python",
   "nbconvert_exporter": "python",
   "pygments_lexer": "ipython3",
   "version": "3.8.5"
  }
 },
 "nbformat": 4,
 "nbformat_minor": 4
}
