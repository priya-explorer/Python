{
 "cells": [
  {
   "cell_type": "code",
   "execution_count": 1,
   "metadata": {
    "id": "gtlAv2oq9yzd"
   },
   "outputs": [
    {
     "name": "stdout",
     "output_type": "stream",
     "text": [
      "The sum of all elements in the list is 100.\n"
     ]
    }
   ],
   "source": [
    "# Python program to find the sum of all elements in a list using loop.\n",
    "\n",
    "list1 = [10,20,30,40]\n",
    "total = 0\n",
    "for i in list1:\n",
    "    total  = i + total  \n",
    "\n",
    "print(f\"The sum of all elements in the list is {total}.\")\n"
   ]
  },
  {
   "cell_type": "code",
   "execution_count": 2,
   "metadata": {
    "id": "gTbA8psa93Y_"
   },
   "outputs": [
    {
     "name": "stdout",
     "output_type": "stream",
     "text": [
      "The multiplication of all elements in the list is 240000.\n"
     ]
    }
   ],
   "source": [
    "# Python program to find the multiplication of all elements in a list using loop.\n",
    "\n",
    "list1 = [10,20,30,40]\n",
    "total = 1\n",
    "\n",
    "for i in list1:\n",
    "    total  = i * total  \n",
    "\n",
    "print(f\"The multiplication of all elements in the list is {total}.\")\n",
    "\n"
   ]
  },
  {
   "cell_type": "code",
   "execution_count": 3,
   "metadata": {
    "id": "XBCrEtLN94Lj"
   },
   "outputs": [
    {
     "name": "stdout",
     "output_type": "stream",
     "text": [
      "The largest number from the list is 2491.\n"
     ]
    }
   ],
   "source": [
    "# A Python program to find the largest number from a list using loop.\n",
    "\n",
    "list2 = [10,1000,2491, 1,2004,2309,250,2491]\n",
    "\n",
    "largest = list2[0]\n",
    "for i in list2:\n",
    "    if i > largest:\n",
    "        largest=i\n",
    "print(f\"The largest number from the list is {largest}.\")"
   ]
  },
  {
   "cell_type": "code",
   "execution_count": 4,
   "metadata": {
    "id": "l3paUtbH94Vw"
   },
   "outputs": [
    {
     "name": "stdout",
     "output_type": "stream",
     "text": [
      "The smallest number from the list is 1.\n"
     ]
    }
   ],
   "source": [
    "# Python program to find the smallest number from a list using loop.\n",
    "\n",
    "list2=[10,100,221, 1,200,2,32]\n",
    "smallest = list2[0]\n",
    "\n",
    "for i in list2:\n",
    "    if i < smallest:\n",
    "        smallest = i\n",
    "        \n",
    "print(f\"The smallest number from the list is {smallest}.\")\n"
   ]
  },
  {
   "cell_type": "code",
   "execution_count": 5,
   "metadata": {
    "id": "JTVgy5VD94cE"
   },
   "outputs": [
    {
     "name": "stdout",
     "output_type": "stream",
     "text": [
      "The number of strings having length more than 2 and are palindrome in a list is  4\n",
      "The palindrome words are: ['kayak', 'radar', 'level', '1991']\n"
     ]
    }
   ],
   "source": [
    "# Python program to COUNT the number of strings having length more than 2 and are palindrome in a list using loop.\n",
    "\n",
    "# method-1: using FOR loop \n",
    "list3=['kayak', 'radar', 'level', 'random', '1991', 'at']\n",
    "counter = 0\n",
    "palindrome_word=[]\n",
    "for i in range(0, len(list3)):\n",
    "    if len(list3[i]) > 2 and list3[i] == list3[i][::-1]:\n",
    "        palindrome_word.append(list3[i]) \n",
    "        counter = counter + 1\n",
    "    \n",
    "          \n",
    "            \n",
    "print(\"The number of strings having length more than 2 and are palindrome in a list is \", counter)   \n",
    "print(\"The palindrome words are:\", palindrome_word)\n",
    "      "
   ]
  },
  {
   "cell_type": "code",
   "execution_count": 6,
   "metadata": {},
   "outputs": [
    {
     "name": "stdout",
     "output_type": "stream",
     "text": [
      "The palindrome words are:\n",
      "kayak is a palindrome word!\n",
      "radar is a palindrome word!\n",
      "level is a palindrome word!\n",
      "1991 is a palindrome word!\n",
      "\n",
      "The number of strings having length more than 2 and are palindrome in a list is 4.\n"
     ]
    }
   ],
   "source": [
    "# method-2: using WHILE loop \n",
    "\n",
    "i = 0\n",
    "counter = 0\n",
    "print(\"The palindrome words are:\")\n",
    "while i < len(list3):\n",
    "    if len(list3[i]) > 2 and list3[i] == list3[i][::-1]:\n",
    "        print(f\"{list3[i]} is a palindrome word!\")\n",
    "        counter = counter + 1\n",
    "    i=i+1\n",
    "print()\n",
    "print(\"The number of strings having length more than 2 and are palindrome in a list is {}.\".format(counter))   "
   ]
  },
  {
   "cell_type": "code",
   "execution_count": 7,
   "metadata": {
    "id": "xs-ZGJbJ94gr"
   },
   "outputs": [
    {
     "name": "stdout",
     "output_type": "stream",
     "text": [
      "[1, 9, 22, 28, 80, 99, 100, 483, 645, 9413, 49876]\n"
     ]
    }
   ],
   "source": [
    "# Python program to sort a list in ascending order using loop.\n",
    "\n",
    "\n",
    "unsorted_list = [100,99,1,28,645,483,49876,22,80,9,9413]\n",
    "sorted_list = []\n",
    "\n",
    "while  unsorted_list:  # this is True and works if the list is non-empty\n",
    "    minimum = unsorted_list[0]\n",
    "    for i in unsorted_list:\n",
    "        if i < minimum:\n",
    "            minimum = i\n",
    "    sorted_list.append(minimum)\n",
    "    unsorted_list.remove(minimum)   \n",
    "\n",
    "print(sorted_list)\n"
   ]
  },
  {
   "cell_type": "code",
   "execution_count": 8,
   "metadata": {
    "id": "VhKQJizZ94kg"
   },
   "outputs": [
    {
     "name": "stdout",
     "output_type": "stream",
     "text": [
      "[(9, 1), (2, 3), (5, 4), (5, 5), (7, 6), (5, 9)]\n"
     ]
    }
   ],
   "source": [
    "#Python program to get a sorted list in increasing order of last element in each tuple in a given list using loop.\n",
    "\n",
    "\n",
    "unsorted_list = [(5,4),(9,1),(2,3),(5,9),(7,6),(5,5)]\n",
    "sorted_list = []\n",
    "\n",
    "\n",
    "while unsorted_list:\n",
    "    min_tuple = unsorted_list[0]\n",
    "    minimum = unsorted_list[0][1]\n",
    "    \n",
    "    for i in range(0, len(unsorted_list)):\n",
    "        if unsorted_list[i][1] < minimum:\n",
    "            minimum = unsorted_list[i][1]\n",
    "            min_tuple = unsorted_list[i]\n",
    "    sorted_list.append(min_tuple)\n",
    "    unsorted_list.remove(min_tuple)\n",
    "\n",
    "print(sorted_list)"
   ]
  },
  {
   "cell_type": "code",
   "execution_count": 9,
   "metadata": {
    "id": "YJrCLYp694n_"
   },
   "outputs": [
    {
     "name": "stdout",
     "output_type": "stream",
     "text": [
      "The list with no duplicates: [10, 1, 11, 29, 876, 768, 92]\n"
     ]
    }
   ],
   "source": [
    "# Python program to remove duplicate element from a list using loop.\n",
    "\n",
    "\n",
    "duplicate_list = [10,1,11,11,1,29,876,768,10,11,1,92,92,29,876]\n",
    "unique_list = []\n",
    "\n",
    "\n",
    "for i in duplicate_list:\n",
    "    if i not in unique_list:  # here, the duplicate elements in input list CANNOT be added to new list!!!\n",
    "        unique_list.append(i)\n",
    "print(\"The list with no duplicates:\", unique_list)\n",
    "        "
   ]
  },
  {
   "cell_type": "code",
   "execution_count": 10,
   "metadata": {
    "id": "koYe4YCu94rh"
   },
   "outputs": [
    {
     "name": "stdout",
     "output_type": "stream",
     "text": [
      "Enter a list:[1,'python','list']\n",
      "List is not empty!\n"
     ]
    }
   ],
   "source": [
    "#Write a Python program to check a list is empty or not?\n",
    "\n",
    "\n",
    "list= eval(input(\"Enter a list:\"))\n",
    "if len(list) > 0:\n",
    "    print(\"List is not empty!\")\n",
    "else:\n",
    "    print(\"List is empty\")\n",
    "\n"
   ]
  },
  {
   "cell_type": "code",
   "execution_count": 11,
   "metadata": {
    "id": "mES1WANa94u5"
   },
   "outputs": [
    {
     "name": "stdout",
     "output_type": "stream",
     "text": [
      "The copied list is: [10, 10.2, (10+20j), 'Python', [10, 20], (10, 20)]\n"
     ]
    }
   ],
   "source": [
    "#Write a Python program to copy a list using loop.\n",
    "\n",
    "inp_list = [10,10.20,10+20j, 'Python', [10,20], (10,20)]\n",
    "list_copy = []\n",
    "\n",
    "for i in inp_list:  \n",
    "    list_copy.append(i)  # here, even duplicate elements in input list can be added to new list\n",
    "print(\"The copied list is:\", list_copy)\n",
    "\n"
   ]
  },
  {
   "cell_type": "code",
   "execution_count": 12,
   "metadata": {
    "id": "CpBh31WO94yi"
   },
   "outputs": [
    {
     "name": "stdout",
     "output_type": "stream",
     "text": [
      "The list of words that are longer than or equal to 4 are: ['much', 'wood', 'would', 'woodchuck', 'chuck', 'could']\n"
     ]
    }
   ],
   "source": [
    "#Write a Python program to find the list of words that are longer than or equal to 4 from a given string.\n",
    "\n",
    "input_lst = 'How much wood would a woodchuck chuck if a woodchuck could chuck wood'\n",
    "list1 = input_lst.split()\n",
    "list2=[]\n",
    "for i in list1:\n",
    "    if (len(i) >= 4) and (i not in list2): # this condition does not allow duplication elements in the new list!!!\n",
    "        list2.append(i)\n",
    "\n",
    "print(\"The list of words that are longer than or equal to 4 are:\", list2)\n"
   ]
  },
  {
   "cell_type": "code",
   "execution_count": 13,
   "metadata": {
    "id": "YVfj0fgZ9416"
   },
   "outputs": [
    {
     "name": "stdout",
     "output_type": "stream",
     "text": [
      "Enter the first list: [10,20,'program', 15.9, 10+2j, [10,20,30],'captain']\n",
      "Enter the second list: [1,2+3j,100.2,'program', 10+2j, [10,20,30],'Python']\n",
      "True\n",
      "The number of common elements between the two lists is 3\n"
     ]
    }
   ],
   "source": [
    "# Python program which takes two list as input and returns True if they have at least 3 common elements.\n",
    "# eg user_input_1 = [10,20,'program', 15.9, 10+2j, [10,20,30],'captain']\n",
    "#user_input_2 = [1,2+3j,100.2,'program', 10+2j, [10,20,30],'Python']\n",
    "#Output:- True\n",
    "\n",
    "user_input_1 = eval(input(\"Enter the first list: \")) \n",
    "user_input_2 = eval(input(\"Enter the second list: \"))\n",
    "counter = 0 \n",
    "for i in user_input_1:\n",
    "    for j in user_input_2:\n",
    "        if i == j :\n",
    "                counter =  counter +1\n",
    "if counter >=3:\n",
    "        print(\"True\")\n",
    "        \n",
    "else:\n",
    "     print(\"Does not have at least 3 common elements between the two list!\")\n",
    "                    \n",
    "print(\"The number of common elements between the two lists is\", counter)"
   ]
  },
  {
   "cell_type": "code",
   "execution_count": 14,
   "metadata": {
    "id": "7vwc3pjR945O"
   },
   "outputs": [
    {
     "data": {
      "text/plain": [
       "[[0, 0, 0, 0], [0, 1, 2, 3], [0, 2, 4, 6], [0, 3, 6, 9]]"
      ]
     },
     "execution_count": 14,
     "metadata": {},
     "output_type": "execute_result"
    }
   ],
   "source": [
    "# Python program to create a 4X4 2D matrix with below elements using loop and list comprehension both.\n",
    "#Output:- [[0,0,0,0],[0,1,2,3],[0,2,4,6],[0,3,6,9]]\n",
    "\n",
    "matrix = [ [ col for col in range(4)]  for row in range (4)]\n",
    "for i in range(4):\n",
    "    for j in range(4):\n",
    "        matrix[i][j]= i*j\n",
    "matrix"
   ]
  },
  {
   "cell_type": "code",
   "execution_count": 15,
   "metadata": {
    "id": "Pxafor84948b"
   },
   "outputs": [
    {
     "data": {
      "text/plain": [
       "[[[0, 0, 0, 0, 0, 0],\n",
       "  [0, 0, 0, 0, 0, 0],\n",
       "  [0, 0, 0, 0, 0, 0],\n",
       "  [0, 0, 0, 0, 0, 0]],\n",
       " [[0, 0, 0, 0, 0, 0],\n",
       "  [1, 1, 1, 1, 1, 1],\n",
       "  [2, 2, 2, 2, 2, 2],\n",
       "  [3, 3, 3, 3, 3, 3]],\n",
       " [[0, 0, 0, 0, 0, 0],\n",
       "  [2, 2, 2, 2, 2, 2],\n",
       "  [4, 4, 4, 4, 4, 4],\n",
       "  [6, 6, 6, 6, 6, 6]]]"
      ]
     },
     "execution_count": 15,
     "metadata": {},
     "output_type": "execute_result"
    }
   ],
   "source": [
    "# Python program to create a 3X4X6 3D matrix wiith below elements using loop\n",
    "#Output:- \n",
    "# [\n",
    "#     [[0,0,0,0,0,0],[0,0,0,0,0,0],[0,0,0,0,0,0],[0,0,0,0,0,0]],\n",
    "#     [[0,0,0,0,0,0],[1,1,1,1,1,1],[2,2,2,2,2,2],[3,3,3,3,3,3]],\n",
    "#     [[0,0,0,0,0,0],[2,2,2,2,2,2],[4,4,4,4,4,4],[6,6,6,6,6,6]]\n",
    "# ]\n",
    "\n",
    "matrix_3d = [] #create 3D list\n",
    "\n",
    "for i in range(3):\n",
    "    matrix_3d.append([]) #add 3 empty lists to the 3D list\n",
    "    \n",
    "    for j in range(4):\n",
    "        matrix_3d[i].append([]) #add 4 empty lists to each of the above 3 lists \n",
    "        \n",
    "        for k in range(6):  \n",
    "            matrix_3d[i][j].append(i*j)  \n",
    "            \n",
    "matrix_3d"
   ]
  },
  {
   "cell_type": "code",
   "execution_count": 18,
   "metadata": {
    "id": "lYNv8gk794_p"
   },
   "outputs": [
    {
     "name": "stdout",
     "output_type": "stream",
     "text": [
      "Enter the list of numbers: [12,13,13.5,15,16,17,18.5,18,19]\n",
      "This is a new list with odd numbers only -  [13, 15, 17, 19]\n"
     ]
    }
   ],
   "source": [
    "# Python program which takes a list of integers as input and prints a new list after removing even numbers WITH ODD numbers ONLY from it.\n",
    "\n",
    "\n",
    "user_input = eval(input(\"Enter the list of numbers: \"))\n",
    "list1=[]\n",
    "for i in user_input:\n",
    "    if ((i%2) != 0) and (str(i).isdigit()) :\n",
    "        list1.append(i)\n",
    "print(\"This is a new list with odd numbers only - \", list1)\n",
    "# note- float cannot be used to describe odd, even numbers\n"
   ]
  },
  {
   "cell_type": "code",
   "execution_count": 19,
   "metadata": {
    "id": "3BaCb-rB95B7"
   },
   "outputs": [
    {
     "name": "stdout",
     "output_type": "stream",
     "text": [
      "Enter the list:[10,21,22,98,87,45,33,1,2,100]\n",
      "The reshuffled list is: [100, 33, 98, 87, 1, 2, 22, 10, 21, 45]\n"
     ]
    }
   ],
   "source": [
    "# Python program which takes a list from the user and prints it after reshuffling the elements of the list.\n",
    "#Input:- [10,21,22,98,87,45,33,1,2,100]\n",
    "#Output:- (It may be any randon list but with same elements)\n",
    "\n",
    "user_input = eval(input(\"Enter the list:\"))\n",
    "\n",
    "import random\n",
    "random.shuffle(user_input)\n",
    "\n",
    "print(\"The reshuffled list is:\", user_input)\n"
   ]
  },
  {
   "cell_type": "markdown",
   "metadata": {},
   "source": [
    "                                     *******************************"
   ]
  }
 ],
 "metadata": {
  "colab": {
   "name": "List_Assignment.ipynb",
   "provenance": []
  },
  "kernelspec": {
   "display_name": "Python 3",
   "language": "python",
   "name": "python3"
  },
  "language_info": {
   "codemirror_mode": {
    "name": "ipython",
    "version": 3
   },
   "file_extension": ".py",
   "mimetype": "text/x-python",
   "name": "python",
   "nbconvert_exporter": "python",
   "pygments_lexer": "ipython3",
   "version": "3.8.5"
  }
 },
 "nbformat": 4,
 "nbformat_minor": 1
}
