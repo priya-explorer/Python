{
 "cells": [
  {
   "cell_type": "markdown",
   "metadata": {},
   "source": [
    "# String\n",
    " \n",
    " - String is a Series or sequence of characters. \n",
    " \n",
    " - A string is a data type.\n",
    " \n",
    " - It used to represent text. Anything inside quotes is a string. It can be single or double quotes - '....',  \"....\" Multiple lines can be written using triple quotes \"\"\".....\"\"\" \n",
    " \n",
    " - A single character is simply a string with a length of 1\n",
    "\n",
    "\n",
    "# String Properties\n",
    "  \n",
    "  - it allows +ve and -ve indexing\n",
    "  - slicing\n",
    "  - concatenation\n",
    "  - repition\n",
    "  - membership operator\n",
    "  - immutable"
   ]
  },
  {
   "cell_type": "code",
   "execution_count": 1,
   "metadata": {},
   "outputs": [
    {
     "name": "stdout",
     "output_type": "stream",
     "text": [
      "Python Strings\n"
     ]
    }
   ],
   "source": [
    "print(\"Python Strings\")"
   ]
  },
  {
   "cell_type": "markdown",
   "metadata": {},
   "source": [
    "## Assigning string to a variable\n",
    "- A string is assigned to a variable with the variable name followed by an equal sign and then string."
   ]
  },
  {
   "cell_type": "code",
   "execution_count": 2,
   "metadata": {},
   "outputs": [
    {
     "name": "stdout",
     "output_type": "stream",
     "text": [
      "\"I am wonderful!\"\n",
      "Cam's bag is full!\n"
     ]
    }
   ],
   "source": [
    "# to write in quotes\n",
    "a = '\"I am wonderful!\"'\n",
    "\n",
    "# with apostrophe\n",
    "b = \"Cam's bag is full!\" \n",
    "print(a)\n",
    "print(b)\n",
    "\n",
    "# multiple lines use \"\"\".....\"\"\" it does'nt work with '..' or \"..\""
   ]
  },
  {
   "cell_type": "markdown",
   "metadata": {},
   "source": [
    "# Accessing elements of the string"
   ]
  },
  {
   "cell_type": "code",
   "execution_count": 3,
   "metadata": {},
   "outputs": [
    {
     "name": "stdout",
     "output_type": "stream",
     "text": [
      "The first letter in the string is: P\n",
      "The last letter in the string is: n\n"
     ]
    }
   ],
   "source": [
    "str_1 = \"Python\"\n",
    "\n",
    "# indexing ( can go upto <length-1>)\n",
    "#-6  -5  -4  -3  -2  -1\n",
    "# P   y   t   h   o   n\n",
    "# 0   1   2   3   4   5\n",
    "\n",
    "print(\"The first letter in the string is:\", str_1[0])\n",
    "print(\"The last letter in the string is:\", str_1[-1]) # or str_1[5]\n",
    "\n",
    "# Note: pthon indexing starts with 0"
   ]
  },
  {
   "cell_type": "code",
   "execution_count": 4,
   "metadata": {},
   "outputs": [
    {
     "name": "stdout",
     "output_type": "stream",
     "text": [
      "697059994160\n",
      "\n",
      "697061297264\n",
      "\n",
      "697058609200\n",
      "\n",
      "697058609200\n"
     ]
    }
   ],
   "source": [
    "str_1 = \"Python\"\n",
    "\n",
    "print(id(str_1)) # memory loc of the full word/str\n",
    "print()\n",
    "print(id(str_1[0])) # memory loc of each char in str\n",
    "print()\n",
    "print(id(str_1[-1]))\n",
    "print()\n",
    "print(id(str_1[5]))"
   ]
  },
  {
   "cell_type": "markdown",
   "metadata": {},
   "source": [
    "# String Length\n",
    "\n",
    "- To get the length of a string, we use the len() function"
   ]
  },
  {
   "cell_type": "code",
   "execution_count": 5,
   "metadata": {},
   "outputs": [
    {
     "name": "stdout",
     "output_type": "stream",
     "text": [
      "The length of the string is 6.\n"
     ]
    }
   ],
   "source": [
    "print(f\"The length of the string is {len(str_1)}.\")"
   ]
  },
  {
   "cell_type": "markdown",
   "metadata": {},
   "source": [
    "# Slicing\n",
    "- extracting the subseq from a seq i.e. returns a range of characters\n",
    "\n",
    "#### syntax \n",
    "str_variable[start num: stop num: step size]\n",
    "\n",
    "#### Important to note that\n",
    "- start number is inclusive while stop number is excluded! \n",
    "\n",
    "\n",
    "\n",
    "step size \n",
    "- +n - every nth character from left to right\n",
    "- -n - every nth character from right to left"
   ]
  },
  {
   "cell_type": "code",
   "execution_count": 6,
   "metadata": {},
   "outputs": [
    {
     "name": "stdout",
     "output_type": "stream",
     "text": [
      "Python\n"
     ]
    }
   ],
   "source": [
    "txt = 'This is a Python string'\n",
    "\n",
    "# +ve index\n",
    "print(txt[10:16])  #by  default step size is 1"
   ]
  },
  {
   "cell_type": "code",
   "execution_count": 7,
   "metadata": {},
   "outputs": [
    {
     "name": "stdout",
     "output_type": "stream",
     "text": [
      "Python \n"
     ]
    }
   ],
   "source": [
    "# -ve index\n",
    "print(txt[-13:-6])"
   ]
  },
  {
   "cell_type": "code",
   "execution_count": 8,
   "metadata": {},
   "outputs": [
    {
     "name": "stdout",
     "output_type": "stream",
     "text": [
      "Ti saPto \n"
     ]
    }
   ],
   "source": [
    "# with step size\n",
    "print(txt[0:17:2]) #space is also included while counting the steps"
   ]
  },
  {
   "cell_type": "code",
   "execution_count": 9,
   "metadata": {},
   "outputs": [
    {
     "name": "stdout",
     "output_type": "stream",
     "text": [
      "gnirts nohtyP a si sihT\n"
     ]
    }
   ],
   "source": [
    "# reverse order\n",
    "print(txt[::-1])"
   ]
  },
  {
   "cell_type": "markdown",
   "metadata": {},
   "source": [
    "# String Concatenation\n",
    "- we use + sign\n",
    "- both the operand should be of string type!"
   ]
  },
  {
   "cell_type": "code",
   "execution_count": 10,
   "metadata": {},
   "outputs": [
    {
     "name": "stdout",
     "output_type": "stream",
     "text": [
      "Hi there!\n"
     ]
    }
   ],
   "source": [
    "a= 'Hi'\n",
    "b= ' there!' \n",
    " \n",
    "print(a+b) # same operand\n",
    " "
   ]
  },
  {
   "cell_type": "code",
   "execution_count": 11,
   "metadata": {},
   "outputs": [
    {
     "ename": "TypeError",
     "evalue": "can only concatenate str (not \"float\") to str",
     "output_type": "error",
     "traceback": [
      "\u001b[1;31m---------------------------------------------------------------------------\u001b[0m",
      "\u001b[1;31mTypeError\u001b[0m                                 Traceback (most recent call last)",
      "\u001b[1;32m<ipython-input-11-7f1cc2ed3c29>\u001b[0m in \u001b[0;36m<module>\u001b[1;34m\u001b[0m\n\u001b[0;32m      1\u001b[0m \u001b[0mval\u001b[0m \u001b[1;33m=\u001b[0m \u001b[1;36m3.14\u001b[0m\u001b[1;33m\u001b[0m\u001b[1;33m\u001b[0m\u001b[0m\n\u001b[0;32m      2\u001b[0m \u001b[0mtxt\u001b[0m\u001b[1;33m=\u001b[0m\u001b[1;34m\"The value of pi is\"\u001b[0m\u001b[1;33m\u001b[0m\u001b[1;33m\u001b[0m\u001b[0m\n\u001b[1;32m----> 3\u001b[1;33m \u001b[0mprint\u001b[0m\u001b[1;33m(\u001b[0m\u001b[0mtxt\u001b[0m\u001b[1;33m+\u001b[0m\u001b[0mval\u001b[0m\u001b[1;33m)\u001b[0m\u001b[1;31m# diff operand DOES NOT work!\u001b[0m\u001b[1;33m\u001b[0m\u001b[1;33m\u001b[0m\u001b[0m\n\u001b[0m",
      "\u001b[1;31mTypeError\u001b[0m: can only concatenate str (not \"float\") to str"
     ]
    }
   ],
   "source": [
    "val = 3.14\n",
    "txt=\"The value of pi is\"\n",
    "print(txt+val)# diff operand DOES NOT work! #ERROR"
   ]
  },
  {
   "cell_type": "code",
   "execution_count": 12,
   "metadata": {},
   "outputs": [
    {
     "name": "stdout",
     "output_type": "stream",
     "text": [
      "The value of pi is 3.14.\n"
     ]
    }
   ],
   "source": [
    "#  String Format\n",
    "txt=\"The value of pi is {}.\"\n",
    "print(txt.format(val))"
   ]
  },
  {
   "cell_type": "code",
   "execution_count": 13,
   "metadata": {},
   "outputs": [
    {
     "data": {
      "text/plain": [
       "'Hello World!'"
      ]
     },
     "execution_count": 13,
     "metadata": {},
     "output_type": "execute_result"
    }
   ],
   "source": [
    "# two string literals together\n",
    "'Hello ''World!'"
   ]
  },
  {
   "cell_type": "markdown",
   "metadata": {},
   "source": [
    " # Repition\n",
    "\n",
    "- we use * sign\n",
    "- one operand whould be string and another should be int"
   ]
  },
  {
   "cell_type": "code",
   "execution_count": 14,
   "metadata": {},
   "outputs": [
    {
     "name": "stdout",
     "output_type": "stream",
     "text": [
      "Repeat..Repeat..Repeat..Repeat..\n"
     ]
    }
   ],
   "source": [
    "print('Repeat..'*4)"
   ]
  },
  {
   "cell_type": "markdown",
   "metadata": {},
   "source": [
    "# Membership Operator - To Check String\n",
    "- tells whether a particular string is present or not \n",
    "- keywords: in, not in \n",
    "- returns Boolen value"
   ]
  },
  {
   "cell_type": "code",
   "execution_count": 15,
   "metadata": {},
   "outputs": [
    {
     "name": "stdout",
     "output_type": "stream",
     "text": [
      "True\n",
      "False\n",
      "True\n"
     ]
    }
   ],
   "source": [
    "txt = \"What we think, we become!\"\n",
    "print(\"think\" in txt)\n",
    "print(\"Think\" in txt) #python is CASE SENSITIVE\n",
    "print(\"WE\" not in txt)"
   ]
  },
  {
   "cell_type": "code",
   "execution_count": 16,
   "metadata": {},
   "outputs": [
    {
     "name": "stdout",
     "output_type": "stream",
     "text": [
      "'Think' is not present in this string!\n"
     ]
    }
   ],
   "source": [
    "# USING if condition\n",
    "if \"Think\" in txt:\n",
    "    print(\"Yes, 'Think' is present in this string!\")\n",
    "else:\n",
    "    print(\"'Think' is not present in this string!\")"
   ]
  },
  {
   "cell_type": "code",
   "execution_count": 17,
   "metadata": {},
   "outputs": [
    {
     "name": "stdout",
     "output_type": "stream",
     "text": [
      "Yes, 'become' is present in this string!\n"
     ]
    }
   ],
   "source": [
    "if \"become\" in txt:\n",
    "    print(\"Yes, 'become' is present in this string!\")\n",
    "else:\n",
    "    print(\"'become' is not present in this string!\")"
   ]
  },
  {
   "cell_type": "markdown",
   "metadata": {},
   "source": [
    "#  Immutable\n",
    "- Strings are immutable!\n",
    "- that is, string cannot be modified in pyhton\n",
    "- assignment opreator will not work! (strings does not support item assignment)\n",
    "- We can simply REASSIGN different strings to the same name."
   ]
  },
  {
   "cell_type": "code",
   "execution_count": 18,
   "metadata": {},
   "outputs": [
    {
     "ename": "TypeError",
     "evalue": "'str' object does not support item assignment",
     "output_type": "error",
     "traceback": [
      "\u001b[1;31m---------------------------------------------------------------------------\u001b[0m",
      "\u001b[1;31mTypeError\u001b[0m                                 Traceback (most recent call last)",
      "\u001b[1;32m<ipython-input-18-5421eae52261>\u001b[0m in \u001b[0;36m<module>\u001b[1;34m\u001b[0m\n\u001b[0;32m      1\u001b[0m \u001b[0mmy_string\u001b[0m \u001b[1;33m=\u001b[0m \u001b[1;34m'immutable'\u001b[0m\u001b[1;33m\u001b[0m\u001b[1;33m\u001b[0m\u001b[0m\n\u001b[1;32m----> 2\u001b[1;33m \u001b[0mmy_string\u001b[0m\u001b[1;33m[\u001b[0m\u001b[1;36m0\u001b[0m\u001b[1;33m]\u001b[0m \u001b[1;33m=\u001b[0m \u001b[1;34m'I'\u001b[0m \u001b[1;31m#ERROR\u001b[0m\u001b[1;33m\u001b[0m\u001b[1;33m\u001b[0m\u001b[0m\n\u001b[0m",
      "\u001b[1;31mTypeError\u001b[0m: 'str' object does not support item assignment"
     ]
    }
   ],
   "source": [
    "my_string = 'immutable'\n",
    "my_string[0] = 'I' #ERROR"
   ]
  },
  {
   "cell_type": "markdown",
   "metadata": {},
   "source": [
    "# Iterating Through a string¶\n",
    "- We can iterate through a string using a for loop"
   ]
  },
  {
   "cell_type": "code",
   "execution_count": 19,
   "metadata": {},
   "outputs": [
    {
     "name": "stdout",
     "output_type": "stream",
     "text": [
      "3 times 'l' letter is found in the text.\n"
     ]
    }
   ],
   "source": [
    "count = 0\n",
    "for letter in 'Hello World':\n",
    "    if(letter == 'l'):\n",
    "        count += 1\n",
    "print(count,\"times 'l' letter is found in the text.\")"
   ]
  },
  {
   "cell_type": "markdown",
   "metadata": {},
   "source": [
    "# String Methods"
   ]
  },
  {
   "cell_type": "code",
   "execution_count": 20,
   "metadata": {},
   "outputs": [
    {
     "data": {
      "text/plain": [
       "['__add__',\n",
       " '__class__',\n",
       " '__contains__',\n",
       " '__delattr__',\n",
       " '__dir__',\n",
       " '__doc__',\n",
       " '__eq__',\n",
       " '__format__',\n",
       " '__ge__',\n",
       " '__getattribute__',\n",
       " '__getitem__',\n",
       " '__getnewargs__',\n",
       " '__gt__',\n",
       " '__hash__',\n",
       " '__init__',\n",
       " '__init_subclass__',\n",
       " '__iter__',\n",
       " '__le__',\n",
       " '__len__',\n",
       " '__lt__',\n",
       " '__mod__',\n",
       " '__mul__',\n",
       " '__ne__',\n",
       " '__new__',\n",
       " '__reduce__',\n",
       " '__reduce_ex__',\n",
       " '__repr__',\n",
       " '__rmod__',\n",
       " '__rmul__',\n",
       " '__setattr__',\n",
       " '__sizeof__',\n",
       " '__str__',\n",
       " '__subclasshook__',\n",
       " 'capitalize',\n",
       " 'casefold',\n",
       " 'center',\n",
       " 'count',\n",
       " 'encode',\n",
       " 'endswith',\n",
       " 'expandtabs',\n",
       " 'find',\n",
       " 'format',\n",
       " 'format_map',\n",
       " 'index',\n",
       " 'isalnum',\n",
       " 'isalpha',\n",
       " 'isascii',\n",
       " 'isdecimal',\n",
       " 'isdigit',\n",
       " 'isidentifier',\n",
       " 'islower',\n",
       " 'isnumeric',\n",
       " 'isprintable',\n",
       " 'isspace',\n",
       " 'istitle',\n",
       " 'isupper',\n",
       " 'join',\n",
       " 'ljust',\n",
       " 'lower',\n",
       " 'lstrip',\n",
       " 'maketrans',\n",
       " 'partition',\n",
       " 'replace',\n",
       " 'rfind',\n",
       " 'rindex',\n",
       " 'rjust',\n",
       " 'rpartition',\n",
       " 'rsplit',\n",
       " 'rstrip',\n",
       " 'split',\n",
       " 'splitlines',\n",
       " 'startswith',\n",
       " 'strip',\n",
       " 'swapcase',\n",
       " 'title',\n",
       " 'translate',\n",
       " 'upper',\n",
       " 'zfill']"
      ]
     },
     "execution_count": 20,
     "metadata": {},
     "output_type": "execute_result"
    }
   ],
   "source": [
    "# dir() usesful to find the compatable functions!!!\n",
    "\n",
    "dir(str) #function that works on string"
   ]
  },
  {
   "cell_type": "code",
   "execution_count": 21,
   "metadata": {},
   "outputs": [
    {
     "name": "stdout",
     "output_type": "stream",
     "text": [
      "EVERY MOMENT IS A FRESH BEGINNING!\n"
     ]
    }
   ],
   "source": [
    "# Capitalization\n",
    "txt=\"Every moment is a fresh beginning!\"\n",
    "print(txt.upper())"
   ]
  },
  {
   "cell_type": "code",
   "execution_count": 22,
   "metadata": {},
   "outputs": [
    {
     "name": "stdout",
     "output_type": "stream",
     "text": [
      "every moment is a fresh beginning!\n"
     ]
    }
   ],
   "source": [
    "#lower case\n",
    "print(txt.lower())"
   ]
  },
  {
   "cell_type": "code",
   "execution_count": 24,
   "metadata": {},
   "outputs": [
    {
     "name": "stdout",
     "output_type": "stream",
     "text": [
      "every moment is a fresh beginning!\n"
     ]
    }
   ],
   "source": [
    "# This method is similar to the lower() method, but the casefold() method is stronger, more aggressive,\n",
    "# meaning that it will convert more characters into lower case, and will find more matches when\n",
    "# comparing two strings and both are converted using the casefold() method.\n",
    "\n",
    "x = txt.casefold()\n",
    "\n",
    "print(x)"
   ]
  },
  {
   "cell_type": "code",
   "execution_count": 25,
   "metadata": {},
   "outputs": [
    {
     "name": "stdout",
     "output_type": "stream",
     "text": [
      "eVERY MOMENT IS A FRESH BEGINNING!\n"
     ]
    }
   ],
   "source": [
    "# swapcase - upper to lower and vice versa\n",
    "print(txt.swapcase())"
   ]
  },
  {
   "cell_type": "code",
   "execution_count": 26,
   "metadata": {},
   "outputs": [
    {
     "name": "stdout",
     "output_type": "stream",
     "text": [
      "Mark Twain\n"
     ]
    }
   ],
   "source": [
    "# title() - ONLY the 1st character of each word is CONVERTED to UPPER CASE\n",
    "t=\"mark twain\"\n",
    "print(t.title())"
   ]
  },
  {
   "cell_type": "code",
   "execution_count": 27,
   "metadata": {},
   "outputs": [
    {
     "name": "stdout",
     "output_type": "stream",
     "text": [
      "list(enumerate(str1) =  [(0, 'c'), (1, 'o'), (2, 'l'), (3, 'd')]\n"
     ]
    }
   ],
   "source": [
    "# enumerate()\n",
    "# The enumerate() function returns an enumerate object.\n",
    "# It contains the index and value of all the items in the string as pairs.\n",
    "# This can be useful for iteration.\n",
    "\n",
    "str1 = 'cold'\n",
    "\n",
    "# enumerate()\n",
    "list_enumerate = list(enumerate(str1))\n",
    "print('list(enumerate(str1) = ', list_enumerate)"
   ]
  },
  {
   "cell_type": "code",
   "execution_count": 28,
   "metadata": {},
   "outputs": [
    {
     "name": "stdout",
     "output_type": "stream",
     "text": [
      "The number of times 'do' word is seen in the string is 2\n"
     ]
    }
   ],
   "source": [
    "# count() method returns the number of times a specified value appears in the string.\n",
    "# string_variable.count(value, start, end)\n",
    "txt=\"Whatever you do, do it well.\"\n",
    "print(\"The number of times 'do' word is seen in the string is\", txt.count(\"do\"))"
   ]
  },
  {
   "cell_type": "code",
   "execution_count": 29,
   "metadata": {},
   "outputs": [
    {
     "name": "stdout",
     "output_type": "stream",
     "text": [
      "23\n"
     ]
    }
   ],
   "source": [
    "# find() function ---> finds the first occurrence of the specific value.\n",
    "# syntax: string_variable.count(value, start, end)\n",
    "print(txt.find(\"well.\"))\n",
    "\n",
    "# note: returns -1 if the value is not found.\n",
    "# and find() is similar to index(), \n",
    "# the only difference is that the index() method raises an exception if value is not found"
   ]
  },
  {
   "cell_type": "code",
   "execution_count": 30,
   "metadata": {},
   "outputs": [
    {
     "name": "stdout",
     "output_type": "stream",
     "text": [
      "                Welcome                 \n",
      "****************Welcome*****************\n"
     ]
    }
   ],
   "source": [
    "# center() to center align the string, using a specific character\n",
    "# can use a fill character \n",
    "# but space is the default fill character.\n",
    "txt = \"Welcome\"\n",
    "x = txt.center(40)\n",
    "y = txt.center(40, \"*\")\n",
    "print(x)\n",
    "print(y)"
   ]
  },
  {
   "cell_type": "code",
   "execution_count": 31,
   "metadata": {},
   "outputs": [
    {
     "name": "stdout",
     "output_type": "stream",
     "text": [
      "It is October.\n"
     ]
    }
   ],
   "source": [
    "# replace\n",
    "# syntax:  string_var.replace(old_value, new_value, count)\n",
    "# count - occurrences of the old value  to be replaced\n",
    "txt=\"It is June.\"\n",
    "print(txt.replace(\"June\",\"October\"))"
   ]
  },
  {
   "cell_type": "code",
   "execution_count": 32,
   "metadata": {},
   "outputs": [
    {
     "data": {
      "text/plain": [
       "['It', 'is', 'June.']"
      ]
     },
     "execution_count": 32,
     "metadata": {},
     "output_type": "execute_result"
    }
   ],
   "source": [
    "# split()\n",
    "# syntax: variable.split(separator, maxsplit)\n",
    "# returns a list\n",
    "txt.split(sep=' ')"
   ]
  },
  {
   "cell_type": "code",
   "execution_count": 33,
   "metadata": {},
   "outputs": [
    {
     "name": "stdout",
     "output_type": "stream",
     "text": [
      "True\n",
      "False\n",
      "False\n",
      "False\n",
      "False\n"
     ]
    }
   ],
   "source": [
    "# isnumeric()\n",
    "# returns True if ALL the characters are numeric (0-9), else False\n",
    "\n",
    "a = \"123\" \n",
    "b = \"*\" \n",
    "c = \"100gms\"\n",
    "d = \"-9\"\n",
    "e = \"56.5\"\n",
    "\n",
    "print(a.isnumeric())\n",
    "print(b.isnumeric())\n",
    "print(c.isnumeric())\n",
    "print(d.isnumeric())\n",
    "print(e.isnumeric())"
   ]
  },
  {
   "cell_type": "code",
   "execution_count": 34,
   "metadata": {},
   "outputs": [
    {
     "name": "stdout",
     "output_type": "stream",
     "text": [
      "Join+Function\n"
     ]
    }
   ],
   "source": [
    "# join()\n",
    "# string.join(iterable)\n",
    "txt= (\"Join\", \"Function\")\n",
    "print(\"+\".join(txt))"
   ]
  },
  {
   "cell_type": "code",
   "execution_count": 35,
   "metadata": {},
   "outputs": [
    {
     "name": "stdout",
     "output_type": "stream",
     "text": [
      "*string methods* \n",
      " length is: 23\n"
     ]
    }
   ],
   "source": [
    "# strip, rstrip, lstrip\n",
    "\n",
    "# syntax string.strip(characters)\n",
    "# strip - remove spaces from both ends\n",
    "str_1=\"    *string methods*   \"\n",
    "print(str_1.strip(), \"\\n length is:\",len(str_1))"
   ]
  },
  {
   "cell_type": "code",
   "execution_count": 36,
   "metadata": {},
   "outputs": [
    {
     "name": "stdout",
     "output_type": "stream",
     "text": [
      "*string methods*   \n",
      "\n",
      "    *string methods*\n"
     ]
    }
   ],
   "source": [
    "print(str_1.lstrip()) # lstrip\n",
    "print()\n",
    "print(str_1.rstrip()) # rstrip"
   ]
  },
  {
   "cell_type": "code",
   "execution_count": 37,
   "metadata": {},
   "outputs": [
    {
     "name": "stdout",
     "output_type": "stream",
     "text": [
      "string methods\n"
     ]
    }
   ],
   "source": [
    "#Remove the leading and trailing characters\n",
    "str_1=\" n   *string methods*  k \"\n",
    "print(str_1.strip(\"k * n\")) #set of characters can be in ANY ORDER"
   ]
  },
  {
   "cell_type": "markdown",
   "metadata": {},
   "source": [
    "                                                 ********************************"
   ]
  }
 ],
 "metadata": {
  "kernelspec": {
   "display_name": "Python 3",
   "language": "python",
   "name": "python3"
  },
  "language_info": {
   "codemirror_mode": {
    "name": "ipython",
    "version": 3
   },
   "file_extension": ".py",
   "mimetype": "text/x-python",
   "name": "python",
   "nbconvert_exporter": "python",
   "pygments_lexer": "ipython3",
   "version": "3.8.5"
  }
 },
 "nbformat": 4,
 "nbformat_minor": 4
}
