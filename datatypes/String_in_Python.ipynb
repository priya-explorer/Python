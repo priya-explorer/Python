{
 "cells": [
  {
   "cell_type": "code",
   "execution_count": 1,
   "metadata": {
    "id": "qUSYa5x-3n5j"
   },
   "outputs": [
    {
     "name": "stdout",
     "output_type": "stream",
     "text": [
      "concatenation in python\n"
     ]
    }
   ],
   "source": [
    "#Basic operation on string\n",
    "str1 = 'concatenation'\n",
    "str2 = 'python'\n",
    "\n",
    "print( str1 +' in '+ str2)\n"
   ]
  },
  {
   "cell_type": "code",
   "execution_count": 2,
   "metadata": {
    "id": "gREffmnr3s-p"
   },
   "outputs": [
    {
     "name": "stdout",
     "output_type": "stream",
     "text": [
      "True\n",
      "False\n"
     ]
    }
   ],
   "source": [
    "#Basic operation on string \n",
    "#identity operator\n",
    "str1 = 'Python'\n",
    "str2 = 'Python'\n",
    "str3 = 'Python$'\n",
    "str4 = 'Python$'\n",
    "\n",
    "print(str1 is str2) #identity operator between str1 and str2\n",
    "\n",
    "print(str1 is str3) # identity operator between str1 and str3\n"
   ]
  },
  {
   "cell_type": "code",
   "execution_count": 3,
   "metadata": {},
   "outputs": [
    {
     "name": "stdout",
     "output_type": "stream",
     "text": [
      "Python\n",
      "Is there a capital 'P' in str1? True\n",
      "Is there a capital 'N' in str1? False\n"
     ]
    }
   ],
   "source": [
    "# membership operator\n",
    "print(str1)\n",
    "print(\"Is there a capital 'P' in str1?\", 'P' in str1) # membership operator\n",
    "print(\"Is there a capital 'N' in str1?\",'N' in str3) ### Python is CASE SENSITIVE!"
   ]
  },
  {
   "cell_type": "code",
   "execution_count": 4,
   "metadata": {
    "id": "-JgFbPmn3w3D"
   },
   "outputs": [
    {
     "name": "stdout",
     "output_type": "stream",
     "text": [
      "True\n",
      "False\n"
     ]
    }
   ],
   "source": [
    "# equality operator\n",
    "str1 = 'A'\n",
    "str2 = 'A'\n",
    "\n",
    "print(str1==str2)\n",
    "\n",
    "\n",
    "print(str1!=str2)\n"
   ]
  },
  {
   "cell_type": "code",
   "execution_count": 5,
   "metadata": {
    "id": "fJ46_L-53yhW"
   },
   "outputs": [
    {
     "name": "stdout",
     "output_type": "stream",
     "text": [
      "True\n",
      "True\n"
     ]
    }
   ],
   "source": [
    "str1 = 'A'\n",
    "str2 = 'a'\n",
    "\n",
    "print(str1<str2)\n",
    "#Compare str1 and str2  using comparison operator\n",
    "\n",
    "print(str1!=str2)\n",
    "#Compare str1 and str2 using equality operator"
   ]
  },
  {
   "cell_type": "code",
   "execution_count": 6,
   "metadata": {
    "id": "7ulv5ith37OJ"
   },
   "outputs": [
    {
     "name": "stdout",
     "output_type": "stream",
     "text": [
      "Python\n",
      "Python\n",
      "\n",
      "True\n",
      "False\n"
     ]
    }
   ],
   "source": [
    "# logical opereators\n",
    "a = 'Python'\n",
    "b = ''\n",
    "\n",
    "#Apply logical opereators (and, or & not) on above string values and observe the output.\n",
    "print(a or b)\n",
    "print(b or a)\n",
    "print(a and b)\n",
    "print(not b)\n",
    "print(not a)"
   ]
  },
  {
   "cell_type": "markdown",
   "metadata": {},
   "source": [
    "#### NOTE - OR operation on a string and empty string returns a string  and AND operation returns an empty string. But, NOT operation returns a boolean value(True or False)"
   ]
  },
  {
   "cell_type": "code",
   "execution_count": 7,
   "metadata": {
    "id": "Yg_gsZBL383n"
   },
   "outputs": [
    {
     "name": "stdout",
     "output_type": "stream",
     "text": [
      "\n",
      "\n",
      "True\n"
     ]
    }
   ],
   "source": [
    "a = ''\n",
    "b = ''\n",
    "\n",
    "# logical opereators (and, or & not) on above string values and observe the output.\n",
    "print(a and b)\n",
    "print(a or  b)\n",
    "print(not b)"
   ]
  },
  {
   "cell_type": "markdown",
   "metadata": {},
   "source": [
    "#### NOTE - AND and OR operations on 2 empty strings returns an empty string and not bool value."
   ]
  },
  {
   "cell_type": "code",
   "execution_count": 8,
   "metadata": {
    "id": "Y0Ot_E704AX5"
   },
   "outputs": [
    {
     "name": "stdout",
     "output_type": "stream",
     "text": [
      "The total count of 't' is 7\n",
      "The position of first 't' is 2\n",
      "The position of first 't' is 2\n",
      "The index position of '8' is 9\n",
      "The index position of '8' is 9\n"
     ]
    }
   ],
   "source": [
    "my_str = \"Although 8 that way may not be obvious at first unless you're Dutch\"\n",
    "\n",
    "# code to get the total count of 't' in above string. Use find() and index() method.\n",
    "print(\"The total count of 't' is\", my_str.count('t'))\n",
    "print(\"The position of first 't' is\", my_str.find('t')) #find() helps to find  the index postion of the 1st occurence from left to right\n",
    "print(\"The position of first 't' is\", my_str.index('t')) #index() helps to find  the index postion of the 1st occurence from left to right\n",
    " \n",
    "    \n",
    "# to get the index of '8' in my_str. Use find() and index() method.\n",
    "print(\"The index position of '8' is\", my_str.find('8')) #find() helps to find  the index postion of the 1st occurence from left to right\n",
    "print(\"The index position of '8' is\", my_str.index('8')) #index() helps to find  the index postion of the 1st occurence from left to right\n",
    " "
   ]
  },
  {
   "cell_type": "code",
   "execution_count": 9,
   "metadata": {},
   "outputs": [
    {
     "name": "stdout",
     "output_type": "stream",
     "text": [
      "-1\n",
      "11\n",
      "The index position of 'u' counting from right to left is 63\n",
      "The index position of 'u' counting from right to left is 63\n"
     ]
    }
   ],
   "source": [
    "\n",
    "print(my_str.find('the')) # -----> It returns -1 since 'the' substring is not found in my_str\n",
    "\n",
    "print(my_str.find('t', 9, 15))\n",
    "\n",
    "print(\"The index position of 'u' counting from right to left is\", my_str.rfind('u'))\n",
    "\n",
    "print(\"The index position of 'u' counting from right to left is\", my_str.rindex('u'))"
   ]
  },
  {
   "cell_type": "code",
   "execution_count": 10,
   "metadata": {
    "id": "Gommq59Q4CMi"
   },
   "outputs": [
    {
     "data": {
      "text/plain": [
       "'Python'"
      ]
     },
     "execution_count": 10,
     "metadata": {},
     "output_type": "execute_result"
    }
   ],
   "source": [
    "# strip function in string\n",
    "\n",
    "s1 = '    Python   '.strip()\n",
    "s1"
   ]
  },
  {
   "cell_type": "code",
   "execution_count": 11,
   "metadata": {},
   "outputs": [
    {
     "data": {
      "text/plain": [
       "'Python  '"
      ]
     },
     "execution_count": 11,
     "metadata": {},
     "output_type": "execute_result"
    }
   ],
   "source": [
    "# left strip function\n",
    "\n",
    "'    Python  '.lstrip()"
   ]
  },
  {
   "cell_type": "code",
   "execution_count": 12,
   "metadata": {},
   "outputs": [
    {
     "data": {
      "text/plain": [
       "'  Python'"
      ]
     },
     "execution_count": 12,
     "metadata": {},
     "output_type": "execute_result"
    }
   ],
   "source": [
    "# right strip function\n",
    "'  Python   '.rstrip()"
   ]
  },
  {
   "cell_type": "code",
   "execution_count": 13,
   "metadata": {
    "id": "9IUy-cpS4Dtt"
   },
   "outputs": [
    {
     "name": "stdout",
     "output_type": "stream",
     "text": [
      "upper case sentence: ALTHOUGH 8 THAT WAY MAY NOT BE OBVIOUS AT FIRST UNLESS YOU'RE DUTCH\n",
      "lower case sentence: although 8 that way may not be obvious at first unless you're dutch\n",
      "case swapped in sentence: aLTHOUGH 8 THAT WAY MAY NOT BE OBVIOUS AT FIRST UNLESS YOU'RE dUTCH\n"
     ]
    }
   ],
   "source": [
    "my_str = \"Although 8 that way may not be obvious at first unless you're Dutch\"\n",
    "\n",
    "# convert all alphabets in my_str into upper case.\n",
    "print(\"upper case sentence:\", my_str.upper())\n",
    "\n",
    "# convert all alphabets in my_str into lower case.\n",
    "print(\"lower case sentence:\",my_str.lower())\n",
    "\n",
    "#swap the cases of all alphabets in my_str.(lower to upper and upper to lower)\n",
    "print(\"case swapped in sentence:\",my_str.swapcase())\n",
    "\n"
   ]
  },
  {
   "cell_type": "code",
   "execution_count": 14,
   "metadata": {
    "id": "-BjS-z674HKW"
   },
   "outputs": [
    {
     "name": "stdout",
     "output_type": "stream",
     "text": [
      "Harry Potter\n"
     ]
    }
   ],
   "source": [
    "t_1=\"harry potter\"\n",
    "print(t_1.title()) # title function"
   ]
  },
  {
   "cell_type": "code",
   "execution_count": 15,
   "metadata": {
    "id": "tAMkSIN84MPe"
   },
   "outputs": [
    {
     "name": "stdout",
     "output_type": "stream",
     "text": [
      "a\n",
      "A\n",
      "True\n"
     ]
    }
   ],
   "source": [
    "print(chr(97))\n",
    "print(chr(65))\n",
    "s = chr(65) + chr(97)\n",
    "print(s.isprintable())"
   ]
  },
  {
   "cell_type": "code",
   "execution_count": 16,
   "metadata": {},
   "outputs": [
    {
     "name": "stdout",
     "output_type": "stream",
     "text": [
      "a\n",
      "\u001b\n",
      "False\n"
     ]
    }
   ],
   "source": [
    "print(chr(97))\n",
    "print(chr(27))\n",
    "s = chr(27) + chr(97)\n",
    "print(s.isprintable())"
   ]
  },
  {
   "cell_type": "code",
   "execution_count": 17,
   "metadata": {},
   "outputs": [
    {
     "name": "stdout",
     "output_type": "stream",
     "text": [
      "False\n",
      "True\n"
     ]
    }
   ],
   "source": [
    "s = '\\n'\n",
    "print(s.isprintable())\n",
    "\n",
    "s = ''\n",
    "print(s.isprintable())"
   ]
  },
  {
   "cell_type": "code",
   "execution_count": 18,
   "metadata": {
    "id": "VsLV8FF74QTB"
   },
   "outputs": [
    {
     "name": "stdout",
     "output_type": "stream",
     "text": [
      "The strings are equal.\n"
     ]
    }
   ],
   "source": [
    "# are they the same strings?\n",
    "firstString = \"der Fluß\"\n",
    "secondString = \"der Fluss\"\n",
    "\n",
    "if firstString.casefold() == secondString.casefold():\n",
    "    print('The strings are equal.')\n",
    "else:\n",
    "    print('The strings are not equal.')"
   ]
  },
  {
   "cell_type": "code",
   "execution_count": 19,
   "metadata": {},
   "outputs": [
    {
     "data": {
      "text/plain": [
       "'ss'"
      ]
     },
     "execution_count": 19,
     "metadata": {},
     "output_type": "execute_result"
    }
   ],
   "source": [
    "d='ß'\n",
    "d.casefold() # this function converts all the characters in the string to lower case"
   ]
  },
  {
   "cell_type": "code",
   "execution_count": 20,
   "metadata": {
    "id": "1m0U7jLa4Wjf"
   },
   "outputs": [
    {
     "name": "stdout",
     "output_type": "stream",
     "text": [
      "python**\n",
      "**python\n",
      "**python**\n"
     ]
    }
   ],
   "source": [
    "#Write the code to get below output\n",
    "\n",
    "str_1= 'python'\n",
    "\n",
    "#O/P 1:- python** (using ljust method)\n",
    "str_2= str_1.ljust(8, '*')\n",
    "print(str_2)\n",
    "\n",
    "#Write the code to get below output\n",
    "#O/P 1:- **python (using rjust method)\n",
    "print(str_1.rjust(8, '*'))\n",
    "\n",
    "#Write the code to get below output\n",
    "#O/P 1:- **python** (using rjust method)\n",
    "print(str_2.rjust(10,'*'))"
   ]
  },
  {
   "cell_type": "code",
   "execution_count": 21,
   "metadata": {
    "id": "cRVkvW6s4YKK"
   },
   "outputs": [
    {
     "name": "stdout",
     "output_type": "stream",
     "text": [
      "85\n"
     ]
    }
   ],
   "source": [
    "# Python program to find the length of the my_str:-\n",
    "my_str = \"That way may not be obvious at first unless you're Dutch\"\n",
    "print(len(\"The length of the string is {}.\".format(my_str)))"
   ]
  },
  {
   "cell_type": "code",
   "execution_count": 22,
   "metadata": {
    "id": "SjABWI284Zuz"
   },
   "outputs": [
    {
     "name": "stdout",
     "output_type": "stream",
     "text": [
      "The total number of times letter 'p' has appeared is 9\n"
     ]
    }
   ],
   "source": [
    "# find the total number of times letter 'p' is appeared in the below string:-\n",
    "\n",
    "str2='peter piper picked a peck of pickled peppers.'\n",
    "print(\"The total number of times letter 'p' has appeared is\", str2.count('p'))"
   ]
  },
  {
   "cell_type": "code",
   "execution_count": 23,
   "metadata": {
    "id": "-iZtqbEo4bQp"
   },
   "outputs": [
    {
     "name": "stdout",
     "output_type": "stream",
     "text": [
      "The index of the letter 'p' are:\n",
      "0\n",
      "6\n",
      "8\n",
      "12\n",
      "21\n",
      "29\n",
      "37\n",
      "39\n",
      "40\n"
     ]
    }
   ],
   "source": [
    "# print all the indexes of all occurences of letter 'p' appeared in the string:-\n",
    "str2='peter piper picked a peck of pickled peppers.'  \n",
    "\n",
    "print(\"The index of the letter 'p' are:\")\n",
    "for i, c in enumerate(str2) :   # i is the position of the character in the string\n",
    "    if 'p' == c :\n",
    "        print(i)"
   ]
  },
  {
   "cell_type": "code",
   "execution_count": 24,
   "metadata": {},
   "outputs": [
    {
     "name": "stdout",
     "output_type": "stream",
     "text": [
      "The index of the letter 'p' are:\n",
      "0\n",
      "6\n",
      "8\n",
      "12\n",
      "21\n",
      "29\n",
      "37\n",
      "39\n",
      "40\n"
     ]
    }
   ],
   "source": [
    "# 2nd way\n",
    "str2='peter piper picked a peck of pickled peppers.' \n",
    "print(\"The index of the letter 'p' are:\")\n",
    "for i in range(len(str2)):\n",
    "    if str2[i] == 'p' :    \n",
    "        print(i)"
   ]
  },
  {
   "cell_type": "code",
   "execution_count": 25,
   "metadata": {
    "id": "_A8Eu8f84daM"
   },
   "outputs": [
    {
     "data": {
      "text/plain": [
       "['peter', 'piper', 'picked', 'a', 'peck', 'of', 'pickled', 'peppers.']"
      ]
     },
     "execution_count": 25,
     "metadata": {},
     "output_type": "execute_result"
    }
   ],
   "source": [
    "# split func in string\n",
    "str2='peter piper picked a peck of pickled peppers.'\n",
    "str2.split() "
   ]
  },
  {
   "cell_type": "code",
   "execution_count": 26,
   "metadata": {
    "id": "juh7tQuL4fNc"
   },
   "outputs": [
    {
     "name": "stdout",
     "output_type": "stream",
     "text": [
      "['peter', 'piper', 'picked', 'a', 'peck', 'of', 'pickled', 'peppers.']\n",
      "peppers. pickled of peck a picked piper peter\n"
     ]
    }
   ],
   "source": [
    "#Write a python program to find below output:-\n",
    "#Input:- 'peter piper picked a peck of pickled peppers.'\n",
    "#Output:- 'peppers. pickled of peck a picked piper peter'\n",
    "\n",
    "str2='peter piper picked a peck of pickled peppers.'\n",
    "\n",
    "#method-1\n",
    "split1=str2.split() # converting to list\n",
    "print(split1)\n",
    "lst1=split1[::-1] # each words are swapped i.e the order of each word reversed\n",
    "\n",
    "new_str = \" \".join(lst1) # converting list to string(with the order of words reversed)\n",
    "print(new_str)\n",
    "\n",
    "\n",
    "\n"
   ]
  },
  {
   "cell_type": "code",
   "execution_count": 27,
   "metadata": {},
   "outputs": [
    {
     "name": "stdout",
     "output_type": "stream",
     "text": [
      "['peppers.', 'pickled', 'of', 'peck', 'a', 'picked', 'piper', 'peter']\n",
      "peppers. pickled of peck a picked piper peter\n"
     ]
    }
   ],
   "source": [
    "#method-2 : creating a function\n",
    "\n",
    "split1=str2.split()\n",
    "lst1=split1[::-1]\n",
    "print(lst1)\n",
    "\n",
    "# definig a function that converts list to string\n",
    "def list_to_string(str_reversed) :   \n",
    "    \n",
    "    empty_str= \" \" #initializing an empty string\n",
    "    return  \" \".join(str_reversed)\n",
    "\n",
    "str_reversed = lst1\n",
    "    \n",
    "print(list_to_string(str_reversed))\n",
    "\n",
    "\n",
    "#Input:- 'peter piper picked a peck of pickled peppers.'\n",
    "#Output:- 'peppers. pickled of peck a picked piper peter'"
   ]
  },
  {
   "cell_type": "code",
   "execution_count": 28,
   "metadata": {},
   "outputs": [
    {
     "data": {
      "text/plain": [
       "'peppers. pickled of peck a picked piper peter'"
      ]
     },
     "execution_count": 28,
     "metadata": {},
     "output_type": "execute_result"
    }
   ],
   "source": [
    "#method - 3 : using map function\n",
    "str_r = ' '.join(map(str, lst1))\n",
    "str_r "
   ]
  },
  {
   "cell_type": "code",
   "execution_count": 29,
   "metadata": {
    "id": "aaHQYz194fW7"
   },
   "outputs": [
    {
     "name": "stdout",
     "output_type": "stream",
     "text": [
      "The reversed string: \n",
      " .sreppep delkcip fo kcep a dekcip repip retep\n"
     ]
    }
   ],
   "source": [
    "# reverse of a string\n",
    "str2='peter piper picked a peck of pickled peppers.'\n",
    "print(\"The reversed string: \\n\", str2[::-1])"
   ]
  },
  {
   "cell_type": "code",
   "execution_count": 30,
   "metadata": {
    "id": "LSgj9glC4feI"
   },
   "outputs": [
    {
     "data": {
      "text/plain": [
       "'retep repip dekcip a kcep fo delkcip .sreppep'"
      ]
     },
     "execution_count": 30,
     "metadata": {},
     "output_type": "execute_result"
    }
   ],
   "source": [
    "#reversed sentence function:-\n",
    "\n",
    "def reversed_words(str_new) :\n",
    "    \n",
    "    list1 = str_new.split()\n",
    "    \n",
    "    reversed_words = [w[::-1] for w in list1]\n",
    "     \n",
    "    return \" \".join(reversed_words)\n",
    "\n",
    "str_new = str2\n",
    "reversed_words(str_new)"
   ]
  },
  {
   "cell_type": "code",
   "execution_count": 31,
   "metadata": {
    "id": "3Gg65vSc4m3C"
   },
   "outputs": [
    {
     "name": "stdout",
     "output_type": "stream",
     "text": [
      "The 1st occurrence of first character of 'Pickl' is at index 29\n"
     ]
    }
   ],
   "source": [
    "#Write a python program to implement index method. If sub_str is found in my_str then it will print the index\n",
    "# of first occurrence of first character of matching string in my_str:-\n",
    "my_str = 'Peter Piper Picked A Peck Of Pickled Peppers.'\n",
    "sub_str = 'Pickl'\n",
    "\n",
    "if sub_str in my_str:\n",
    "    print(\"The 1st occurrence of first character of 'Pickl' is at index\", my_str.find(sub_str))\n",
    "\n",
    "\n"
   ]
  },
  {
   "cell_type": "code",
   "execution_count": 33,
   "metadata": {
    "id": "iFRhp_JI4m6k"
   },
   "outputs": [
    {
     "data": {
      "text/plain": [
       "'Peter Piper Picked A Pack Of Pickled Peppers.'"
      ]
     },
     "execution_count": 33,
     "metadata": {},
     "output_type": "execute_result"
    }
   ],
   "source": [
    "# implementing replace method\n",
    "# If sub_str is found in my_str then it will replace the first occurrence of sub_str with new_str else it will will print sub_str not found:-\n",
    "my_str = 'Peter Piper Picked A Peck Of Pickled Peppers.'\n",
    "sub_str= 'Peck'\n",
    "new_str = 'Pack'\n",
    "my_str.replace(sub_str, new_str)\n"
   ]
  },
  {
   "cell_type": "code",
   "execution_count": 34,
   "metadata": {
    "id": "dQ9YhBBc4m9V"
   },
   "outputs": [
    {
     "name": "stdout",
     "output_type": "stream",
     "text": [
      "The length of the string is 45.\n",
      "********************Peck********************\n"
     ]
    }
   ],
   "source": [
    "# rjust and ljust\n",
    "my_str = 'Peter Piper Picked A Peck Of Pickled Peppers.'\n",
    "print(\"The length of the string is {}.\".format( len(my_str)))\n",
    "\n",
    "str3= 'Peck'\n",
    "sub_str=str3.ljust(24,'*')\n",
    "sub_str\n",
    "\n",
    "print(sub_str.rjust(44,'*'))\n"
   ]
  },
  {
   "cell_type": "markdown",
   "metadata": {
    "id": "w37BRLdt4tYT"
   },
   "source": [
    "                                         **************The End*************"
   ]
  }
 ],
 "metadata": {
  "colab": {
   "collapsed_sections": [],
   "name": "String_Assignment.ipynb",
   "provenance": []
  },
  "kernelspec": {
   "display_name": "Python 3",
   "language": "python",
   "name": "python3"
  },
  "language_info": {
   "codemirror_mode": {
    "name": "ipython",
    "version": 3
   },
   "file_extension": ".py",
   "mimetype": "text/x-python",
   "name": "python",
   "nbconvert_exporter": "python",
   "pygments_lexer": "ipython3",
   "version": "3.8.5"
  },
  "latex_envs": {
   "LaTeX_envs_menu_present": true,
   "autoclose": false,
   "autocomplete": true,
   "bibliofile": "biblio.bib",
   "cite_by": "apalike",
   "current_citInitial": 1,
   "eqLabelWithNumbers": true,
   "eqNumInitial": 1,
   "hotkeys": {
    "equation": "Ctrl-E",
    "itemize": "Ctrl-I"
   },
   "labels_anchors": false,
   "latex_user_defs": false,
   "report_style_numbering": false,
   "user_envs_cfg": false
  },
  "varInspector": {
   "cols": {
    "lenName": 16,
    "lenType": 16,
    "lenVar": 40
   },
   "kernels_config": {
    "python": {
     "delete_cmd_postfix": "",
     "delete_cmd_prefix": "del ",
     "library": "var_list.py",
     "varRefreshCmd": "print(var_dic_list())"
    },
    "r": {
     "delete_cmd_postfix": ") ",
     "delete_cmd_prefix": "rm(",
     "library": "var_list.r",
     "varRefreshCmd": "cat(var_dic_list()) "
    }
   },
   "types_to_exclude": [
    "module",
    "function",
    "builtin_function_or_method",
    "instance",
    "_Feature"
   ],
   "window_display": false
  }
 },
 "nbformat": 4,
 "nbformat_minor": 1
}
