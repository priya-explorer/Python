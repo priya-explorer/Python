{
 "cells": [
  {
   "cell_type": "markdown",
   "metadata": {},
   "source": [
    "# Pyhton Operators\n",
    "\n",
    "- Operators are used to perform operations on variables and values.\n",
    "\n",
    "#### Different types of operators in python are\n",
    "\n",
    "- 1. Arithmetic operators\n",
    "- 2. Assignment operators\n",
    "- 3. Comparison operators\n",
    "- 4. Logical operators\n",
    "- 5. Identity operators\n",
    "- 6. Membership operators\n",
    "- 7. Bitwise operators"
   ]
  },
  {
   "cell_type": "markdown",
   "metadata": {},
   "source": [
    " # 1. Arthimatic Operators \n",
    " \n",
    " +, -, *, /(float div), //(floor div), %(modulo), * * (exponent)\n",
    " \n",
    " - Arithmetic operators are used with numeric values to perform common mathematical operations such as addition, subtraction, Multiplication, Division, Modulus, Exponentiation, Floor division"
   ]
  },
  {
   "cell_type": "code",
   "execution_count": 1,
   "metadata": {},
   "outputs": [
    {
     "name": "stdout",
     "output_type": "stream",
     "text": [
      "357\n",
      "-1910\n",
      "17.0\n",
      "100\n",
      "2500\n"
     ]
    }
   ],
   "source": [
    "print(12+345) # addition\n",
    "print(435-2345) # subtraction\n",
    "print(34/2) # division\n",
    "print (50*2) # multiplication\n",
    "print(50**2) # square"
   ]
  },
  {
   "cell_type": "code",
   "execution_count": 2,
   "metadata": {},
   "outputs": [
    {
     "name": "stdout",
     "output_type": "stream",
     "text": [
      "2.0\n",
      "2\n"
     ]
    }
   ],
   "source": [
    "print(12/6)  # float div, hence the output will be a float value\n",
    "print(13//6) # floor div, output value will be floor, i.e, it returns the closest integer less than or equal to a given number"
   ]
  },
  {
   "cell_type": "code",
   "execution_count": 3,
   "metadata": {},
   "outputs": [
    {
     "name": "stdout",
     "output_type": "stream",
     "text": [
      "2\n"
     ]
    }
   ],
   "source": [
    "print(12%5) # modulo returns ONLY the remainder!"
   ]
  },
  {
   "cell_type": "code",
   "execution_count": 4,
   "metadata": {},
   "outputs": [
    {
     "name": "stdout",
     "output_type": "stream",
     "text": [
      "8\n"
     ]
    }
   ],
   "source": [
    "print(2**3) # power func"
   ]
  },
  {
   "cell_type": "markdown",
   "metadata": {},
   "source": [
    "***"
   ]
  },
  {
   "cell_type": "markdown",
   "metadata": {},
   "source": [
    "# 2. Comparison Operators\n",
    ">, <, >=, <=\n",
    "\n",
    "### Comparison operators are used to compare two values\n",
    "\n",
    "#### NOTE:\n",
    "- always returns True or False\n",
    "- can be performed between(b/w) int and float\n",
    "- can perform b/w str and str\n",
    "- cannot perform b/w int(or float or complex) and str\n",
    "- cannot perform on comlex op\n",
    "- cannot perform on None type\n"
   ]
  },
  {
   "cell_type": "code",
   "execution_count": 5,
   "metadata": {
    "scrolled": true
   },
   "outputs": [
    {
     "name": "stdout",
     "output_type": "stream",
     "text": [
      "True\n"
     ]
    }
   ],
   "source": [
    "print(10>=9.5) #always returns True or False"
   ]
  },
  {
   "cell_type": "code",
   "execution_count": 6,
   "metadata": {
    "scrolled": true
   },
   "outputs": [
    {
     "ename": "TypeError",
     "evalue": "'>' not supported between instances of 'str' and 'float'",
     "output_type": "error",
     "traceback": [
      "\u001b[1;31m---------------------------------------------------------------------------\u001b[0m",
      "\u001b[1;31mTypeError\u001b[0m                                 Traceback (most recent call last)",
      "\u001b[1;32m<ipython-input-6-49147df606ae>\u001b[0m in \u001b[0;36m<module>\u001b[1;34m\u001b[0m\n\u001b[0;32m      1\u001b[0m \u001b[1;31m# cannot perform b/w int(or float or complex) and str\u001b[0m\u001b[1;33m\u001b[0m\u001b[1;33m\u001b[0m\u001b[1;33m\u001b[0m\u001b[0m\n\u001b[1;32m----> 2\u001b[1;33m \u001b[0mprint\u001b[0m\u001b[1;33m(\u001b[0m\u001b[1;34m'b'\u001b[0m\u001b[1;33m>\u001b[0m\u001b[1;36m4.2\u001b[0m\u001b[1;33m)\u001b[0m\u001b[1;33m\u001b[0m\u001b[1;33m\u001b[0m\u001b[0m\n\u001b[0m",
      "\u001b[1;31mTypeError\u001b[0m: '>' not supported between instances of 'str' and 'float'"
     ]
    }
   ],
   "source": [
    "# cannot perform b/w int(or float or complex) and str\n",
    "print('b'>4.2)"
   ]
  },
  {
   "cell_type": "code",
   "execution_count": 8,
   "metadata": {},
   "outputs": [
    {
     "name": "stdout",
     "output_type": "stream",
     "text": [
      "False\n"
     ]
    }
   ],
   "source": [
    "print('a'<'3')\n",
    "# ascii value of 'a' - 97\n",
    "# ascii value of a is greater than ascii val of 3"
   ]
  },
  {
   "cell_type": "code",
   "execution_count": 9,
   "metadata": {
    "scrolled": true
   },
   "outputs": [
    {
     "name": "stdout",
     "output_type": "stream",
     "text": [
      "True\n"
     ]
    }
   ],
   "source": [
    "print(\"arcade\">\"a\") #alphabetical order"
   ]
  },
  {
   "cell_type": "code",
   "execution_count": 10,
   "metadata": {},
   "outputs": [
    {
     "ename": "TypeError",
     "evalue": "'>' not supported between instances of 'complex' and 'complex'",
     "output_type": "error",
     "traceback": [
      "\u001b[1;31m---------------------------------------------------------------------------\u001b[0m",
      "\u001b[1;31mTypeError\u001b[0m                                 Traceback (most recent call last)",
      "\u001b[1;32m<ipython-input-10-a7378b123e02>\u001b[0m in \u001b[0;36m<module>\u001b[1;34m\u001b[0m\n\u001b[0;32m      1\u001b[0m \u001b[1;31m#cannot perform on comlex op\u001b[0m\u001b[1;33m\u001b[0m\u001b[1;33m\u001b[0m\u001b[1;33m\u001b[0m\u001b[0m\n\u001b[1;32m----> 2\u001b[1;33m \u001b[0mprint\u001b[0m\u001b[1;33m(\u001b[0m\u001b[1;36m2\u001b[0m\u001b[1;33m+\u001b[0m\u001b[1;36m4j\u001b[0m \u001b[1;33m>\u001b[0m \u001b[1;36m3\u001b[0m\u001b[1;33m+\u001b[0m\u001b[1;36m3j\u001b[0m\u001b[1;33m)\u001b[0m\u001b[1;33m\u001b[0m\u001b[1;33m\u001b[0m\u001b[0m\n\u001b[0m",
      "\u001b[1;31mTypeError\u001b[0m: '>' not supported between instances of 'complex' and 'complex'"
     ]
    }
   ],
   "source": [
    "#cannot perform on comlex op\n",
    "print(2+4j > 3+3j)"
   ]
  },
  {
   "cell_type": "code",
   "execution_count": 11,
   "metadata": {
    "scrolled": true
   },
   "outputs": [
    {
     "ename": "TypeError",
     "evalue": "'>' not supported between instances of 'NoneType' and 'NoneType'",
     "output_type": "error",
     "traceback": [
      "\u001b[1;31m---------------------------------------------------------------------------\u001b[0m",
      "\u001b[1;31mTypeError\u001b[0m                                 Traceback (most recent call last)",
      "\u001b[1;32m<ipython-input-11-042dd1edc042>\u001b[0m in \u001b[0;36m<module>\u001b[1;34m\u001b[0m\n\u001b[0;32m      2\u001b[0m \u001b[0ma\u001b[0m\u001b[1;33m=\u001b[0m\u001b[1;32mNone\u001b[0m\u001b[1;33m\u001b[0m\u001b[1;33m\u001b[0m\u001b[0m\n\u001b[0;32m      3\u001b[0m \u001b[0mb\u001b[0m\u001b[1;33m=\u001b[0m \u001b[1;32mNone\u001b[0m\u001b[1;33m\u001b[0m\u001b[1;33m\u001b[0m\u001b[0m\n\u001b[1;32m----> 4\u001b[1;33m \u001b[0mprint\u001b[0m\u001b[1;33m(\u001b[0m\u001b[0ma\u001b[0m\u001b[1;33m>\u001b[0m\u001b[0mb\u001b[0m\u001b[1;33m)\u001b[0m\u001b[1;33m\u001b[0m\u001b[1;33m\u001b[0m\u001b[0m\n\u001b[0m",
      "\u001b[1;31mTypeError\u001b[0m: '>' not supported between instances of 'NoneType' and 'NoneType'"
     ]
    }
   ],
   "source": [
    "# cannot perform on None type\n",
    "a=None\n",
    "b= None\n",
    "print(a>b)"
   ]
  },
  {
   "cell_type": "markdown",
   "metadata": {},
   "source": [
    "***"
   ]
  },
  {
   "cell_type": "markdown",
   "metadata": {},
   "source": [
    "# 3. Equality Operator\n",
    "==, !=\n",
    "\n",
    "- returns True or False\n",
    "-  can be performed between int(or float or complex) and str\n",
    "- can perform on comlex op"
   ]
  },
  {
   "cell_type": "code",
   "execution_count": 12,
   "metadata": {},
   "outputs": [
    {
     "name": "stdout",
     "output_type": "stream",
     "text": [
      "False\n",
      "True\n"
     ]
    }
   ],
   "source": [
    "print('str'==123)\n",
    "print(4+3j != \"caramel\")"
   ]
  },
  {
   "cell_type": "code",
   "execution_count": 13,
   "metadata": {},
   "outputs": [
    {
     "data": {
      "text/plain": [
       "65"
      ]
     },
     "execution_count": 13,
     "metadata": {},
     "output_type": "execute_result"
    }
   ],
   "source": [
    "# ascii value can be found using ord()\n",
    "ord('A')"
   ]
  },
  {
   "cell_type": "code",
   "execution_count": 14,
   "metadata": {},
   "outputs": [
    {
     "name": "stdout",
     "output_type": "stream",
     "text": [
      "A\n",
      "True\n"
     ]
    }
   ],
   "source": [
    "print(chr(65))\n",
    "print(\"A\"<= chr(65))"
   ]
  },
  {
   "cell_type": "markdown",
   "metadata": {},
   "source": [
    "***"
   ]
  },
  {
   "cell_type": "markdown",
   "metadata": {},
   "source": [
    "# 4. Logical Operators ----> and, or, not\n",
    "\n",
    "Logical operators are used to combine conditional statements. \n",
    "- and ---->\tReturns True if both statements are True\t\n",
    "- or  ----> Returns True if one of the statements is true\n",
    "- not ----> Reverse the result, returns False if the result is true\n",
    "\n",
    "Here,\n",
    "- 0 is equivalent to False\n",
    "- 1 is equivalent to True"
   ]
  },
  {
   "cell_type": "markdown",
   "metadata": {},
   "source": [
    "### If A and B are two values,\n",
    "\n",
    "- A and B ---> result will be A if A is False else B\n",
    "- A or B ----> result will be A if A is True else B"
   ]
  },
  {
   "cell_type": "code",
   "execution_count": 15,
   "metadata": {},
   "outputs": [
    {
     "name": "stdout",
     "output_type": "stream",
     "text": [
      "True\n",
      "False\n"
     ]
    }
   ],
   "source": [
    "print((10<20) or (10==20))\n",
    "print((10<20) and (10==20))\n"
   ]
  },
  {
   "cell_type": "code",
   "execution_count": 16,
   "metadata": {},
   "outputs": [
    {
     "name": "stdout",
     "output_type": "stream",
     "text": [
      "True\n",
      "False\n",
      "False\n",
      "False\n"
     ]
    }
   ],
   "source": [
    "# and\n",
    "print(True and True)\n",
    "print(False and False)\n",
    "print(True and False)\n",
    "print(False and True)"
   ]
  },
  {
   "cell_type": "code",
   "execution_count": 17,
   "metadata": {},
   "outputs": [
    {
     "name": "stdout",
     "output_type": "stream",
     "text": [
      "True\n",
      "False\n",
      "True\n",
      "True\n"
     ]
    }
   ],
   "source": [
    "# or\n",
    "print(True or True)\n",
    "print(False or False)\n",
    "print(True or False)\n",
    "print(False or True)"
   ]
  },
  {
   "cell_type": "code",
   "execution_count": 18,
   "metadata": {},
   "outputs": [
    {
     "name": "stdout",
     "output_type": "stream",
     "text": [
      "False\n",
      "True\n",
      "False\n"
     ]
    }
   ],
   "source": [
    "# not\n",
    "print(not True)\n",
    "print(not False)\n",
    "print(not(10<20))"
   ]
  },
  {
   "cell_type": "code",
   "execution_count": 19,
   "metadata": {},
   "outputs": [
    {
     "name": "stdout",
     "output_type": "stream",
     "text": [
      "True\n",
      "True\n"
     ]
    }
   ],
   "source": [
    "print(bool(10))\n",
    "print(bool(20))"
   ]
  },
  {
   "cell_type": "code",
   "execution_count": 20,
   "metadata": {},
   "outputs": [
    {
     "name": "stdout",
     "output_type": "stream",
     "text": [
      "20\n",
      "0\n",
      "10\n"
     ]
    }
   ],
   "source": [
    "print(10 and 20)\n",
    "print(0 and 1)\n",
    "print(10 or 20)"
   ]
  },
  {
   "cell_type": "markdown",
   "metadata": {},
   "source": [
    "### Only zero has bool value as  \"False\""
   ]
  },
  {
   "cell_type": "code",
   "execution_count": 21,
   "metadata": {},
   "outputs": [
    {
     "name": "stdout",
     "output_type": "stream",
     "text": [
      "False\n",
      "True\n",
      "True\n",
      "True\n",
      "True\n",
      "True\n"
     ]
    },
    {
     "data": {
      "text/plain": [
       "False"
      ]
     },
     "execution_count": 21,
     "metadata": {},
     "output_type": "execute_result"
    }
   ],
   "source": [
    "print(bool(0.00000))\n",
    "print(bool(0.20))\n",
    "print(bool(9.0))\n",
    "print(bool('0.0'))\n",
    "print(bool(2+4j))\n",
    "print(bool(\"Canada\"))\n",
    "bool()"
   ]
  },
  {
   "cell_type": "markdown",
   "metadata": {},
   "source": [
    "***"
   ]
  },
  {
   "cell_type": "markdown",
   "metadata": {},
   "source": [
    "# 5. Bitwise Operators\n",
    "\n",
    "&,  |,  ^,  -, <<, >>\n",
    "\n",
    "### Bitwise operators are used to compare (binary) numbers\n",
    "\n",
    "- it always works on bit\n",
    "- works only on int\n",
    "\n"
   ]
  },
  {
   "cell_type": "code",
   "execution_count": 22,
   "metadata": {},
   "outputs": [
    {
     "name": "stdout",
     "output_type": "stream",
     "text": [
      "0b1010\n",
      "0b100\n",
      "0\n",
      "0\n"
     ]
    }
   ],
   "source": [
    "# bitwise and -  &\n",
    "\n",
    "x=10 # convert this to binary\n",
    "y=4 # convert this to binary\n",
    "print(bin(x))\n",
    "print(bin(y))\n",
    "\n",
    "# 10---->  0b 1010\n",
    "#  4---->  0b 0100\n",
    "# and op  ---------\n",
    "#          0b 0000\n",
    "\n",
    "print( x  & y)\n",
    "print(0b0000)"
   ]
  },
  {
   "cell_type": "code",
   "execution_count": 23,
   "metadata": {},
   "outputs": [
    {
     "name": "stdout",
     "output_type": "stream",
     "text": [
      "14\n",
      "14\n"
     ]
    }
   ],
   "source": [
    "# or bitwise |\n",
    "\n",
    "print(0b1110)\n",
    "print( x | y)"
   ]
  },
  {
   "cell_type": "code",
   "execution_count": 24,
   "metadata": {},
   "outputs": [
    {
     "name": "stdout",
     "output_type": "stream",
     "text": [
      "14\n",
      "14\n"
     ]
    }
   ],
   "source": [
    "# xor bitwise ^\n",
    "# 0 xor 0 --> 0\n",
    "# 1 xor 1 --> 0\n",
    "# 1 xor 0 --> 1\n",
    "# 0 xor 1 --> 1\n",
    "\n",
    "print(0b1110)\n",
    "print(x^y)\n"
   ]
  },
  {
   "cell_type": "code",
   "execution_count": 25,
   "metadata": {},
   "outputs": [
    {
     "name": "stdout",
     "output_type": "stream",
     "text": [
      "40\n",
      "160\n",
      "40\n",
      "160\n"
     ]
    }
   ],
   "source": [
    "# bitwise left shift  <<\n",
    "\n",
    "print(10<<2) #remove 2 bits from left hand side --- 10*(2**2) =40\n",
    "# when we remove 2 zeros from left, we add 2 zeros on the right\n",
    "print(10<<4) # 10*(2**4) =160\n",
    "# note the binary val of 10 is rep in 32or 64 bits(depending on the sys used)\n",
    "# 0b rep the remaining zeros and in total the lenght will be 64(or 32)\n",
    "print(0b101000)\n",
    "print(0b10100000)"
   ]
  },
  {
   "cell_type": "code",
   "execution_count": 26,
   "metadata": {},
   "outputs": [
    {
     "name": "stdout",
     "output_type": "stream",
     "text": [
      "2\n",
      "0\n",
      "2\n",
      "0\n"
     ]
    }
   ],
   "source": [
    "# bitwise right shift  >>\n",
    "print(10>>2) #remove 2 bits from right hand side \n",
    "print(10>>4) #remove 4 bits from right hand side \n",
    "\n",
    "print(0b10)  # 10 // (2*2)\n",
    "print(0b00)  # 10 // (2*4)"
   ]
  },
  {
   "cell_type": "code",
   "execution_count": 27,
   "metadata": {},
   "outputs": [
    {
     "data": {
      "text/plain": [
       "0"
      ]
     },
     "execution_count": 27,
     "metadata": {},
     "output_type": "execute_result"
    }
   ],
   "source": [
    "10 // (2**4)"
   ]
  },
  {
   "cell_type": "code",
   "execution_count": 28,
   "metadata": {},
   "outputs": [
    {
     "data": {
      "text/plain": [
       "2"
      ]
     },
     "execution_count": 28,
     "metadata": {},
     "output_type": "execute_result"
    }
   ],
   "source": [
    "10 // (2**2) #(floor div)"
   ]
  },
  {
   "cell_type": "code",
   "execution_count": 29,
   "metadata": {},
   "outputs": [
    {
     "name": "stdout",
     "output_type": "stream",
     "text": [
      "-11\n",
      "-990\n",
      "9\n"
     ]
    }
   ],
   "source": [
    "# bitwise not\n",
    "\n",
    "print(~10)\n",
    "#steps\n",
    "# add 1 to 10 ---->  11\n",
    "# invert sign ----> -11\n",
    "\n",
    "print(~989)\n",
    "# add 1 to num ----> 990\n",
    "# invert sign-----> -990\n",
    "\n",
    "z= -10\n",
    "print(~z)\n",
    "# add 1 to num ----> -9\n",
    "# invert sign -----> +9"
   ]
  },
  {
   "cell_type": "markdown",
   "metadata": {},
   "source": [
    "***"
   ]
  },
  {
   "cell_type": "markdown",
   "metadata": {},
   "source": [
    "# 6. Assignment Operators\n",
    "+=, -+, /=, * =, %=, //=, **=, &=, !=, ^=, >>=, <<=\n",
    "\n",
    "a += 1  ---->  a = a+1\n",
    "\n",
    "a -= 1  ----> a = a-1\n",
    "\n",
    "## Assignment operators are used to assign values to variables"
   ]
  },
  {
   "cell_type": "code",
   "execution_count": 30,
   "metadata": {},
   "outputs": [
    {
     "name": "stdout",
     "output_type": "stream",
     "text": [
      "7\n"
     ]
    }
   ],
   "source": [
    "a=5\n",
    "a += 2 # this is a statement and cannot be printed\n",
    "print(a)"
   ]
  },
  {
   "cell_type": "code",
   "execution_count": 31,
   "metadata": {},
   "outputs": [
    {
     "name": "stdout",
     "output_type": "stream",
     "text": [
      "16\n"
     ]
    }
   ],
   "source": [
    "b=4\n",
    "b**=2 # b = b**2\n",
    "print(b)"
   ]
  },
  {
   "cell_type": "markdown",
   "metadata": {},
   "source": [
    "***"
   ]
  },
  {
   "cell_type": "markdown",
   "metadata": {},
   "source": [
    "# 7. Identity Operators ----> is, is not \n",
    "\n",
    "## To check whether both variables are in the same memory location or not"
   ]
  },
  {
   "cell_type": "code",
   "execution_count": 32,
   "metadata": {},
   "outputs": [
    {
     "name": "stdout",
     "output_type": "stream",
     "text": [
      "True\n",
      "False\n",
      "False\n"
     ]
    }
   ],
   "source": [
    "i_1=10\n",
    "i_2=10\n",
    "i_3=1000\n",
    "i_4=1000\n",
    "print(i_1 is i_2) # you are telling that both has same memory loc\n",
    "print(i_1 is not i_2) # you are telling that both memory loc is not the same  (a contradiction)\n",
    "\n",
    "print(i_3 is i_4) # check object reusability"
   ]
  },
  {
   "cell_type": "code",
   "execution_count": 33,
   "metadata": {},
   "outputs": [
    {
     "name": "stdout",
     "output_type": "stream",
     "text": [
      "140712379885632\n",
      "140712379885632\n",
      "1095629378544\n",
      "1095629379472\n"
     ]
    }
   ],
   "source": [
    "print(id(i_1))\n",
    "print(id(i_2))\n",
    "print(id(i_3))  # diff id\n",
    "print(id(i_4))  # diff id -----> because of  object reusability"
   ]
  },
  {
   "cell_type": "markdown",
   "metadata": {},
   "source": [
    "#### object reusability\n",
    "\n",
    "- int = -5 to 256\n",
    "- None\n",
    "- True, False\n",
    "- string A-Z, a-z, 0-9, _\n",
    "\n",
    "#### will not work for float and complex"
   ]
  },
  {
   "cell_type": "markdown",
   "metadata": {},
   "source": [
    "***"
   ]
  },
  {
   "cell_type": "markdown",
   "metadata": {},
   "source": [
    "# 8. Ternary Operators\n",
    "## They are also known as conditional expressions are operators that evaluate something based on a condition being true or false\n",
    "\n",
    "- syntax\n",
    "\n",
    "expression_1 if cond else expr_2 ----> result is expression_1 if condition is True else False\n",
    "\n",
    "exp_1 if cond1 else exp2 if cond2 else exp_3 ---> nested if"
   ]
  },
  {
   "cell_type": "code",
   "execution_count": 34,
   "metadata": {},
   "outputs": [
    {
     "name": "stdout",
     "output_type": "stream",
     "text": [
      "10\n",
      "20\n",
      "\n",
      "10\n",
      "20\n"
     ]
    }
   ],
   "source": [
    "print( 10 if 10<20 else 20)\n",
    "print( 10 if 10==20 else 20)\n",
    "print()\n",
    "print( 10 if 10<20 else 20 if 5<20 else 50)\n",
    "print( 10 if 10>20 else 20 if 5<20 else 50)"
   ]
  },
  {
   "cell_type": "markdown",
   "metadata": {},
   "source": [
    "# 9 Membership Operators ---->  in, not in\n",
    "\n",
    "## Membership operators are used to test if a sequence is presented in an object\n",
    "\n",
    "- in     ----> Returns True if a sequence with the specified value is present in the object\n",
    "\n",
    "- not in ----> Returns True if a sequence with the specified value is not present in the object"
   ]
  },
  {
   "cell_type": "code",
   "execution_count": 35,
   "metadata": {},
   "outputs": [
    {
     "name": "stdout",
     "output_type": "stream",
     "text": [
      "True\n",
      "False\n",
      "True\n"
     ]
    }
   ],
   "source": [
    "x =  \"Python\"\n",
    "y = \"y\"\n",
    "z= \"Y\"\n",
    "print(y in x)\n",
    "print(y  not in x)\n",
    "print(z  not in x) # because python is case sensitive!!!"
   ]
  },
  {
   "cell_type": "markdown",
   "metadata": {},
   "source": [
    "***"
   ]
  }
 ],
 "metadata": {
  "kernelspec": {
   "display_name": "Python 3",
   "language": "python",
   "name": "python3"
  },
  "language_info": {
   "codemirror_mode": {
    "name": "ipython",
    "version": 3
   },
   "file_extension": ".py",
   "mimetype": "text/x-python",
   "name": "python",
   "nbconvert_exporter": "python",
   "pygments_lexer": "ipython3",
   "version": "3.8.5"
  }
 },
 "nbformat": 4,
 "nbformat_minor": 4
}
